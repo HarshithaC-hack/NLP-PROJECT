{
  "cells": [
    {
      "cell_type": "code",
      "execution_count": null,
      "metadata": {
        "id": "eaae41c5"
      },
      "outputs": [],
      "source": [
        "# Import statements\n",
        "import pandas as pd\n",
        "import numpy as np\n",
        "import matplotlib.pyplot as plt\n",
        "import seaborn as sns\n",
        "import re\n",
        "import nltk\n",
        "from sklearn.model_selection import train_test_split\n",
        "from sklearn.feature_extraction.text import TfidfVectorizer\n",
        "from sklearn.pipeline import Pipeline \n",
        "from sklearn.metrics import accuracy_score, confusion_matrix, classification_report,ConfusionMatrixDisplay\n",
        "from sklearn import naive_bayes\n",
        "from sklearn.linear_model import LogisticRegression\n",
        "from sklearn.svm import LinearSVC\n",
        "from sklearn.neighbors import KNeighborsClassifier\n",
        "from bs4 import BeautifulSoup\n",
        "from nltk.corpus import stopwords \n",
        "from sklearn.ensemble import RandomForestClassifier"
      ],
      "id": "eaae41c5"
    },
    {
      "cell_type": "code",
      "execution_count": null,
      "metadata": {
        "id": "18cddebf"
      },
      "outputs": [],
      "source": [
        "# reading data from sample dataset\n",
        "# data = pd.read_csv('amazon_pc.csv')\n",
        "data = pd.read_csv('Dataset.csv')"
      ],
      "id": "18cddebf"
    },
    {
      "cell_type": "code",
      "execution_count": null,
      "metadata": {
        "colab": {
          "base_uri": "https://localhost:8080/",
          "height": 582
        },
        "id": "684e6333",
        "outputId": "1f70b7b1-0a46-49f6-ec21-a0b54f9ed0cd",
        "scrolled": false
      },
      "outputs": [
        {
          "data": {
            "text/html": [
              "\n",
              "  <div id=\"df-e176a60c-8318-4498-9d78-4c3b164d7791\">\n",
              "    <div class=\"colab-df-container\">\n",
              "      <div>\n",
              "<style scoped>\n",
              "    .dataframe tbody tr th:only-of-type {\n",
              "        vertical-align: middle;\n",
              "    }\n",
              "\n",
              "    .dataframe tbody tr th {\n",
              "        vertical-align: top;\n",
              "    }\n",
              "\n",
              "    .dataframe thead th {\n",
              "        text-align: right;\n",
              "    }\n",
              "</style>\n",
              "<table border=\"1\" class=\"dataframe\">\n",
              "  <thead>\n",
              "    <tr style=\"text-align: right;\">\n",
              "      <th></th>\n",
              "      <th>marketplace</th>\n",
              "      <th>customer_id</th>\n",
              "      <th>review_id</th>\n",
              "      <th>product_id</th>\n",
              "      <th>product_parent</th>\n",
              "      <th>product_title</th>\n",
              "      <th>product_category</th>\n",
              "      <th>star_rating</th>\n",
              "      <th>helpful_votes</th>\n",
              "      <th>total_votes</th>\n",
              "      <th>vine</th>\n",
              "      <th>verified_purchase</th>\n",
              "      <th>review_headline</th>\n",
              "      <th>review_body</th>\n",
              "      <th>review_date</th>\n",
              "      <th>sentiment</th>\n",
              "    </tr>\n",
              "  </thead>\n",
              "  <tbody>\n",
              "    <tr>\n",
              "      <th>0</th>\n",
              "      <td>US</td>\n",
              "      <td>11555559</td>\n",
              "      <td>R1QXC7AHHJBQ3O</td>\n",
              "      <td>B00IKPX4GY</td>\n",
              "      <td>2693241</td>\n",
              "      <td>Fire HD 7, 7\" HD Display, Wi-Fi, 8 GB</td>\n",
              "      <td>PC</td>\n",
              "      <td>5</td>\n",
              "      <td>0</td>\n",
              "      <td>0</td>\n",
              "      <td>N</td>\n",
              "      <td>Y</td>\n",
              "      <td>Five Stars</td>\n",
              "      <td>Great love it</td>\n",
              "      <td>2015-08-31</td>\n",
              "      <td>1.0</td>\n",
              "    </tr>\n",
              "    <tr>\n",
              "      <th>1</th>\n",
              "      <td>US</td>\n",
              "      <td>31469372</td>\n",
              "      <td>R175VSRV6ZETOP</td>\n",
              "      <td>B00IKPYKWG</td>\n",
              "      <td>2693241</td>\n",
              "      <td>Fire HD 7, 7\" HD Display, Wi-Fi, 8 GB</td>\n",
              "      <td>PC</td>\n",
              "      <td>3</td>\n",
              "      <td>0</td>\n",
              "      <td>0</td>\n",
              "      <td>N</td>\n",
              "      <td>N</td>\n",
              "      <td>Lots of ads Slow processing speed Occasionally...</td>\n",
              "      <td>Lots of ads&lt;br /&gt;Slow processing speed&lt;br /&gt;Oc...</td>\n",
              "      <td>2015-08-31</td>\n",
              "      <td>0.0</td>\n",
              "    </tr>\n",
              "    <tr>\n",
              "      <th>2</th>\n",
              "      <td>US</td>\n",
              "      <td>26843895</td>\n",
              "      <td>R2HRFF78MWGY19</td>\n",
              "      <td>B00IKPW0UA</td>\n",
              "      <td>2693241</td>\n",
              "      <td>Fire HD 7, 7\" HD Display, Wi-Fi, 8 GB</td>\n",
              "      <td>PC</td>\n",
              "      <td>5</td>\n",
              "      <td>0</td>\n",
              "      <td>0</td>\n",
              "      <td>N</td>\n",
              "      <td>Y</td>\n",
              "      <td>Well thought out device</td>\n",
              "      <td>Excellent unit.  The versatility of this table...</td>\n",
              "      <td>2015-08-31</td>\n",
              "      <td>1.0</td>\n",
              "    </tr>\n",
              "    <tr>\n",
              "      <th>3</th>\n",
              "      <td>US</td>\n",
              "      <td>19844868</td>\n",
              "      <td>R8Q39WPKYVSTX</td>\n",
              "      <td>B00LCHSHMS</td>\n",
              "      <td>2693241</td>\n",
              "      <td>Fire HD 7, 7\" HD Display, Wi-Fi, 8 GB</td>\n",
              "      <td>PC</td>\n",
              "      <td>4</td>\n",
              "      <td>0</td>\n",
              "      <td>0</td>\n",
              "      <td>N</td>\n",
              "      <td>N</td>\n",
              "      <td>Not all apps/games we were looking forward to ...</td>\n",
              "      <td>I bought this on Amazon Prime so I ended up bu...</td>\n",
              "      <td>2015-08-31</td>\n",
              "      <td>1.0</td>\n",
              "    </tr>\n",
              "    <tr>\n",
              "      <th>4</th>\n",
              "      <td>US</td>\n",
              "      <td>1189852</td>\n",
              "      <td>R3RL4C8YP2ZCJL</td>\n",
              "      <td>B00IKPZ5V6</td>\n",
              "      <td>2693241</td>\n",
              "      <td>Fire HD 7, 7\" HD Display, Wi-Fi, 8 GB</td>\n",
              "      <td>PC</td>\n",
              "      <td>5</td>\n",
              "      <td>0</td>\n",
              "      <td>0</td>\n",
              "      <td>N</td>\n",
              "      <td>Y</td>\n",
              "      <td>Five Stars</td>\n",
              "      <td>All Amazon products continue to meet my expect...</td>\n",
              "      <td>2015-08-31</td>\n",
              "      <td>1.0</td>\n",
              "    </tr>\n",
              "  </tbody>\n",
              "</table>\n",
              "</div>\n",
              "      <button class=\"colab-df-convert\" onclick=\"convertToInteractive('df-e176a60c-8318-4498-9d78-4c3b164d7791')\"\n",
              "              title=\"Convert this dataframe to an interactive table.\"\n",
              "              style=\"display:none;\">\n",
              "        \n",
              "  <svg xmlns=\"http://www.w3.org/2000/svg\" height=\"24px\"viewBox=\"0 0 24 24\"\n",
              "       width=\"24px\">\n",
              "    <path d=\"M0 0h24v24H0V0z\" fill=\"none\"/>\n",
              "    <path d=\"M18.56 5.44l.94 2.06.94-2.06 2.06-.94-2.06-.94-.94-2.06-.94 2.06-2.06.94zm-11 1L8.5 8.5l.94-2.06 2.06-.94-2.06-.94L8.5 2.5l-.94 2.06-2.06.94zm10 10l.94 2.06.94-2.06 2.06-.94-2.06-.94-.94-2.06-.94 2.06-2.06.94z\"/><path d=\"M17.41 7.96l-1.37-1.37c-.4-.4-.92-.59-1.43-.59-.52 0-1.04.2-1.43.59L10.3 9.45l-7.72 7.72c-.78.78-.78 2.05 0 2.83L4 21.41c.39.39.9.59 1.41.59.51 0 1.02-.2 1.41-.59l7.78-7.78 2.81-2.81c.8-.78.8-2.07 0-2.86zM5.41 20L4 18.59l7.72-7.72 1.47 1.35L5.41 20z\"/>\n",
              "  </svg>\n",
              "      </button>\n",
              "      \n",
              "  <style>\n",
              "    .colab-df-container {\n",
              "      display:flex;\n",
              "      flex-wrap:wrap;\n",
              "      gap: 12px;\n",
              "    }\n",
              "\n",
              "    .colab-df-convert {\n",
              "      background-color: #E8F0FE;\n",
              "      border: none;\n",
              "      border-radius: 50%;\n",
              "      cursor: pointer;\n",
              "      display: none;\n",
              "      fill: #1967D2;\n",
              "      height: 32px;\n",
              "      padding: 0 0 0 0;\n",
              "      width: 32px;\n",
              "    }\n",
              "\n",
              "    .colab-df-convert:hover {\n",
              "      background-color: #E2EBFA;\n",
              "      box-shadow: 0px 1px 2px rgba(60, 64, 67, 0.3), 0px 1px 3px 1px rgba(60, 64, 67, 0.15);\n",
              "      fill: #174EA6;\n",
              "    }\n",
              "\n",
              "    [theme=dark] .colab-df-convert {\n",
              "      background-color: #3B4455;\n",
              "      fill: #D2E3FC;\n",
              "    }\n",
              "\n",
              "    [theme=dark] .colab-df-convert:hover {\n",
              "      background-color: #434B5C;\n",
              "      box-shadow: 0px 1px 3px 1px rgba(0, 0, 0, 0.15);\n",
              "      filter: drop-shadow(0px 1px 2px rgba(0, 0, 0, 0.3));\n",
              "      fill: #FFFFFF;\n",
              "    }\n",
              "  </style>\n",
              "\n",
              "      <script>\n",
              "        const buttonEl =\n",
              "          document.querySelector('#df-e176a60c-8318-4498-9d78-4c3b164d7791 button.colab-df-convert');\n",
              "        buttonEl.style.display =\n",
              "          google.colab.kernel.accessAllowed ? 'block' : 'none';\n",
              "\n",
              "        async function convertToInteractive(key) {\n",
              "          const element = document.querySelector('#df-e176a60c-8318-4498-9d78-4c3b164d7791');\n",
              "          const dataTable =\n",
              "            await google.colab.kernel.invokeFunction('convertToInteractive',\n",
              "                                                     [key], {});\n",
              "          if (!dataTable) return;\n",
              "\n",
              "          const docLinkHtml = 'Like what you see? Visit the ' +\n",
              "            '<a target=\"_blank\" href=https://colab.research.google.com/notebooks/data_table.ipynb>data table notebook</a>'\n",
              "            + ' to learn more about interactive tables.';\n",
              "          element.innerHTML = '';\n",
              "          dataTable['output_type'] = 'display_data';\n",
              "          await google.colab.output.renderOutput(dataTable, element);\n",
              "          const docLink = document.createElement('div');\n",
              "          docLink.innerHTML = docLinkHtml;\n",
              "          element.appendChild(docLink);\n",
              "        }\n",
              "      </script>\n",
              "    </div>\n",
              "  </div>\n",
              "  "
            ],
            "text/plain": [
              "  marketplace  customer_id       review_id  product_id  product_parent  \\\n",
              "0          US     11555559  R1QXC7AHHJBQ3O  B00IKPX4GY         2693241   \n",
              "1          US     31469372  R175VSRV6ZETOP  B00IKPYKWG         2693241   \n",
              "2          US     26843895  R2HRFF78MWGY19  B00IKPW0UA         2693241   \n",
              "3          US     19844868   R8Q39WPKYVSTX  B00LCHSHMS         2693241   \n",
              "4          US      1189852  R3RL4C8YP2ZCJL  B00IKPZ5V6         2693241   \n",
              "\n",
              "                           product_title product_category  star_rating  \\\n",
              "0  Fire HD 7, 7\" HD Display, Wi-Fi, 8 GB               PC            5   \n",
              "1  Fire HD 7, 7\" HD Display, Wi-Fi, 8 GB               PC            3   \n",
              "2  Fire HD 7, 7\" HD Display, Wi-Fi, 8 GB               PC            5   \n",
              "3  Fire HD 7, 7\" HD Display, Wi-Fi, 8 GB               PC            4   \n",
              "4  Fire HD 7, 7\" HD Display, Wi-Fi, 8 GB               PC            5   \n",
              "\n",
              "   helpful_votes  total_votes vine verified_purchase  \\\n",
              "0              0            0    N                 Y   \n",
              "1              0            0    N                 N   \n",
              "2              0            0    N                 Y   \n",
              "3              0            0    N                 N   \n",
              "4              0            0    N                 Y   \n",
              "\n",
              "                                     review_headline  \\\n",
              "0                                         Five Stars   \n",
              "1  Lots of ads Slow processing speed Occasionally...   \n",
              "2                            Well thought out device   \n",
              "3  Not all apps/games we were looking forward to ...   \n",
              "4                                         Five Stars   \n",
              "\n",
              "                                         review_body review_date  sentiment  \n",
              "0                                      Great love it  2015-08-31        1.0  \n",
              "1  Lots of ads<br />Slow processing speed<br />Oc...  2015-08-31        0.0  \n",
              "2  Excellent unit.  The versatility of this table...  2015-08-31        1.0  \n",
              "3  I bought this on Amazon Prime so I ended up bu...  2015-08-31        1.0  \n",
              "4  All Amazon products continue to meet my expect...  2015-08-31        1.0  "
            ]
          },
          "execution_count": 11,
          "metadata": {},
          "output_type": "execute_result"
        }
      ],
      "source": [
        "# print 5 records from dataset\n",
        "data.head(5)"
      ],
      "id": "684e6333"
    },
    {
      "cell_type": "code",
      "execution_count": null,
      "metadata": {
        "colab": {
          "base_uri": "https://localhost:8080/"
        },
        "id": "088bdf86",
        "outputId": "0f12108b-11b2-4029-fb82-0f9edb871b1e"
      },
      "outputs": [
        {
          "data": {
            "text/plain": [
              "Index(['marketplace', 'customer_id', 'review_id', 'product_id',\n",
              "       'product_parent', 'product_title', 'product_category', 'star_rating',\n",
              "       'helpful_votes', 'total_votes', 'vine', 'verified_purchase',\n",
              "       'review_headline', 'review_body', 'review_date', 'sentiment'],\n",
              "      dtype='object')"
            ]
          },
          "execution_count": 12,
          "metadata": {},
          "output_type": "execute_result"
        }
      ],
      "source": [
        "# print various attributes available in the dataset\n",
        "data.columns"
      ],
      "id": "088bdf86"
    },
    {
      "cell_type": "code",
      "execution_count": null,
      "metadata": {
        "colab": {
          "base_uri": "https://localhost:8080/"
        },
        "id": "b81d6269",
        "outputId": "eb1be9ef-3512-40ae-cb3b-86a1ca32a42e"
      },
      "outputs": [
        {
          "name": "stdout",
          "output_type": "stream",
          "text": [
            "<class 'pandas.core.frame.DataFrame'>\n",
            "RangeIndex: 23765 entries, 0 to 23764\n",
            "Data columns (total 16 columns):\n",
            " #   Column             Non-Null Count  Dtype  \n",
            "---  ------             --------------  -----  \n",
            " 0   marketplace        23765 non-null  object \n",
            " 1   customer_id        23765 non-null  int64  \n",
            " 2   review_id          23765 non-null  object \n",
            " 3   product_id         23765 non-null  object \n",
            " 4   product_parent     23765 non-null  int64  \n",
            " 5   product_title      23765 non-null  object \n",
            " 6   product_category   23765 non-null  object \n",
            " 7   star_rating        23765 non-null  int64  \n",
            " 8   helpful_votes      23765 non-null  int64  \n",
            " 9   total_votes        23765 non-null  int64  \n",
            " 10  vine               23765 non-null  object \n",
            " 11  verified_purchase  23765 non-null  object \n",
            " 12  review_headline    23765 non-null  object \n",
            " 13  review_body        23765 non-null  object \n",
            " 14  review_date        23764 non-null  object \n",
            " 15  sentiment          23764 non-null  float64\n",
            "dtypes: float64(1), int64(5), object(10)\n",
            "memory usage: 2.9+ MB\n"
          ]
        }
      ],
      "source": [
        "# print properties of attributes in the dataset\n",
        "data.info()"
      ],
      "id": "b81d6269"
    },
    {
      "cell_type": "code",
      "execution_count": null,
      "metadata": {
        "id": "459dadc5"
      },
      "outputs": [],
      "source": [
        "# Code for Sentimental Analysis\n",
        "\n",
        "# Start"
      ],
      "id": "459dadc5"
    },
    {
      "cell_type": "code",
      "execution_count": null,
      "metadata": {
        "id": "0ef132ce"
      },
      "outputs": [],
      "source": [
        "# adding a sentiment column to classify reviews as Positive or Negative\n",
        "# Positive = 1\n",
        "# Negative = 0\n",
        "\n",
        "data['sentiment'] = np.where(data['star_rating'] == 5.0, 1,\n",
        "                           np.where(data['star_rating'] == 4.0, 1, 0))"
      ],
      "id": "0ef132ce"
    },
    {
      "cell_type": "code",
      "execution_count": null,
      "metadata": {
        "colab": {
          "base_uri": "https://localhost:8080/"
        },
        "id": "7ce5c65a",
        "outputId": "5a687d8d-3697-4080-8924-ba6ec075873b"
      },
      "outputs": [
        {
          "data": {
            "text/plain": [
              "array(['Fire HD 7, 7\" HD Display, Wi-Fi, 8 GB'], dtype=object)"
            ]
          },
          "execution_count": 16,
          "metadata": {},
          "output_type": "execute_result"
        }
      ],
      "source": [
        "# get unique values of product title column\n",
        "data[\"product_title\"].unique()"
      ],
      "id": "7ce5c65a"
    },
    {
      "cell_type": "code",
      "execution_count": null,
      "metadata": {
        "colab": {
          "base_uri": "https://localhost:8080/",
          "height": 1000
        },
        "id": "514bd3a0",
        "outputId": "2cb83234-2c4c-4722-da4b-676243aa21e8",
        "scrolled": false
      },
      "outputs": [
        {
          "data": {
            "text/html": [
              "\n",
              "  <div id=\"df-cfada549-7d78-4adf-9f1f-f58fd5a83c80\">\n",
              "    <div class=\"colab-df-container\">\n",
              "      <div>\n",
              "<style scoped>\n",
              "    .dataframe tbody tr th:only-of-type {\n",
              "        vertical-align: middle;\n",
              "    }\n",
              "\n",
              "    .dataframe tbody tr th {\n",
              "        vertical-align: top;\n",
              "    }\n",
              "\n",
              "    .dataframe thead th {\n",
              "        text-align: right;\n",
              "    }\n",
              "</style>\n",
              "<table border=\"1\" class=\"dataframe\">\n",
              "  <thead>\n",
              "    <tr style=\"text-align: right;\">\n",
              "      <th></th>\n",
              "      <th>marketplace</th>\n",
              "      <th>customer_id</th>\n",
              "      <th>review_id</th>\n",
              "      <th>product_id</th>\n",
              "      <th>product_parent</th>\n",
              "      <th>product_title</th>\n",
              "      <th>product_category</th>\n",
              "      <th>star_rating</th>\n",
              "      <th>helpful_votes</th>\n",
              "      <th>total_votes</th>\n",
              "      <th>vine</th>\n",
              "      <th>verified_purchase</th>\n",
              "      <th>review_headline</th>\n",
              "      <th>review_body</th>\n",
              "      <th>review_date</th>\n",
              "      <th>sentiment</th>\n",
              "    </tr>\n",
              "  </thead>\n",
              "  <tbody>\n",
              "    <tr>\n",
              "      <th>0</th>\n",
              "      <td>US</td>\n",
              "      <td>11555559</td>\n",
              "      <td>R1QXC7AHHJBQ3O</td>\n",
              "      <td>B00IKPX4GY</td>\n",
              "      <td>2693241</td>\n",
              "      <td>Fire HD 7, 7\" HD Display, Wi-Fi, 8 GB</td>\n",
              "      <td>PC</td>\n",
              "      <td>5</td>\n",
              "      <td>0</td>\n",
              "      <td>0</td>\n",
              "      <td>N</td>\n",
              "      <td>Y</td>\n",
              "      <td>Five Stars</td>\n",
              "      <td>Great love it</td>\n",
              "      <td>2015-08-31</td>\n",
              "      <td>1</td>\n",
              "    </tr>\n",
              "    <tr>\n",
              "      <th>1</th>\n",
              "      <td>US</td>\n",
              "      <td>31469372</td>\n",
              "      <td>R175VSRV6ZETOP</td>\n",
              "      <td>B00IKPYKWG</td>\n",
              "      <td>2693241</td>\n",
              "      <td>Fire HD 7, 7\" HD Display, Wi-Fi, 8 GB</td>\n",
              "      <td>PC</td>\n",
              "      <td>3</td>\n",
              "      <td>0</td>\n",
              "      <td>0</td>\n",
              "      <td>N</td>\n",
              "      <td>N</td>\n",
              "      <td>Lots of ads Slow processing speed Occasionally...</td>\n",
              "      <td>Lots of ads&lt;br /&gt;Slow processing speed&lt;br /&gt;Oc...</td>\n",
              "      <td>2015-08-31</td>\n",
              "      <td>0</td>\n",
              "    </tr>\n",
              "    <tr>\n",
              "      <th>2</th>\n",
              "      <td>US</td>\n",
              "      <td>26843895</td>\n",
              "      <td>R2HRFF78MWGY19</td>\n",
              "      <td>B00IKPW0UA</td>\n",
              "      <td>2693241</td>\n",
              "      <td>Fire HD 7, 7\" HD Display, Wi-Fi, 8 GB</td>\n",
              "      <td>PC</td>\n",
              "      <td>5</td>\n",
              "      <td>0</td>\n",
              "      <td>0</td>\n",
              "      <td>N</td>\n",
              "      <td>Y</td>\n",
              "      <td>Well thought out device</td>\n",
              "      <td>Excellent unit.  The versatility of this table...</td>\n",
              "      <td>2015-08-31</td>\n",
              "      <td>1</td>\n",
              "    </tr>\n",
              "    <tr>\n",
              "      <th>3</th>\n",
              "      <td>US</td>\n",
              "      <td>19844868</td>\n",
              "      <td>R8Q39WPKYVSTX</td>\n",
              "      <td>B00LCHSHMS</td>\n",
              "      <td>2693241</td>\n",
              "      <td>Fire HD 7, 7\" HD Display, Wi-Fi, 8 GB</td>\n",
              "      <td>PC</td>\n",
              "      <td>4</td>\n",
              "      <td>0</td>\n",
              "      <td>0</td>\n",
              "      <td>N</td>\n",
              "      <td>N</td>\n",
              "      <td>Not all apps/games we were looking forward to ...</td>\n",
              "      <td>I bought this on Amazon Prime so I ended up bu...</td>\n",
              "      <td>2015-08-31</td>\n",
              "      <td>1</td>\n",
              "    </tr>\n",
              "    <tr>\n",
              "      <th>4</th>\n",
              "      <td>US</td>\n",
              "      <td>1189852</td>\n",
              "      <td>R3RL4C8YP2ZCJL</td>\n",
              "      <td>B00IKPZ5V6</td>\n",
              "      <td>2693241</td>\n",
              "      <td>Fire HD 7, 7\" HD Display, Wi-Fi, 8 GB</td>\n",
              "      <td>PC</td>\n",
              "      <td>5</td>\n",
              "      <td>0</td>\n",
              "      <td>0</td>\n",
              "      <td>N</td>\n",
              "      <td>Y</td>\n",
              "      <td>Five Stars</td>\n",
              "      <td>All Amazon products continue to meet my expect...</td>\n",
              "      <td>2015-08-31</td>\n",
              "      <td>1</td>\n",
              "    </tr>\n",
              "    <tr>\n",
              "      <th>...</th>\n",
              "      <td>...</td>\n",
              "      <td>...</td>\n",
              "      <td>...</td>\n",
              "      <td>...</td>\n",
              "      <td>...</td>\n",
              "      <td>...</td>\n",
              "      <td>...</td>\n",
              "      <td>...</td>\n",
              "      <td>...</td>\n",
              "      <td>...</td>\n",
              "      <td>...</td>\n",
              "      <td>...</td>\n",
              "      <td>...</td>\n",
              "      <td>...</td>\n",
              "      <td>...</td>\n",
              "      <td>...</td>\n",
              "    </tr>\n",
              "    <tr>\n",
              "      <th>23760</th>\n",
              "      <td>US</td>\n",
              "      <td>42609859</td>\n",
              "      <td>R18FKOT4BXNPWN</td>\n",
              "      <td>B00LCI3LUA</td>\n",
              "      <td>2693241</td>\n",
              "      <td>Fire HD 7, 7\" HD Display, Wi-Fi, 8 GB</td>\n",
              "      <td>PC</td>\n",
              "      <td>5</td>\n",
              "      <td>0</td>\n",
              "      <td>0</td>\n",
              "      <td>N</td>\n",
              "      <td>Y</td>\n",
              "      <td>Absolutely love it!!</td>\n",
              "      <td>Best electronic device I have ever bought! The...</td>\n",
              "      <td>2015-01-04</td>\n",
              "      <td>1</td>\n",
              "    </tr>\n",
              "    <tr>\n",
              "      <th>23761</th>\n",
              "      <td>US</td>\n",
              "      <td>4942558</td>\n",
              "      <td>RV4SK6DQXVN80</td>\n",
              "      <td>B00IKPYKWG</td>\n",
              "      <td>2693241</td>\n",
              "      <td>Fire HD 7, 7\" HD Display, Wi-Fi, 8 GB</td>\n",
              "      <td>PC</td>\n",
              "      <td>2</td>\n",
              "      <td>0</td>\n",
              "      <td>0</td>\n",
              "      <td>N</td>\n",
              "      <td>Y</td>\n",
              "      <td>poor product</td>\n",
              "      <td>It gets extremely hot, and freezes up all the ...</td>\n",
              "      <td>2015-01-04</td>\n",
              "      <td>0</td>\n",
              "    </tr>\n",
              "    <tr>\n",
              "      <th>23762</th>\n",
              "      <td>US</td>\n",
              "      <td>9628184</td>\n",
              "      <td>RW1WHM020V58G</td>\n",
              "      <td>B00LCI2I7C</td>\n",
              "      <td>2693241</td>\n",
              "      <td>Fire HD 7, 7\" HD Display, Wi-Fi, 8 GB</td>\n",
              "      <td>PC</td>\n",
              "      <td>5</td>\n",
              "      <td>0</td>\n",
              "      <td>0</td>\n",
              "      <td>N</td>\n",
              "      <td>Y</td>\n",
              "      <td>Five Stars</td>\n",
              "      <td>Love it!!!!!!!!</td>\n",
              "      <td>2015-01-04</td>\n",
              "      <td>1</td>\n",
              "    </tr>\n",
              "    <tr>\n",
              "      <th>23763</th>\n",
              "      <td>US</td>\n",
              "      <td>3254535</td>\n",
              "      <td>R2AAKXKVTUBAGU</td>\n",
              "      <td>B00IKPX4GY</td>\n",
              "      <td>2693241</td>\n",
              "      <td>Fire HD 7, 7\" HD Display, Wi-Fi, 8 GB</td>\n",
              "      <td>PC</td>\n",
              "      <td>5</td>\n",
              "      <td>0</td>\n",
              "      <td>0</td>\n",
              "      <td>N</td>\n",
              "      <td>Y</td>\n",
              "      <td>Parental control a plus!</td>\n",
              "      <td>I bought this for my daughter and she loves it...</td>\n",
              "      <td>2015-01-04</td>\n",
              "      <td>1</td>\n",
              "    </tr>\n",
              "    <tr>\n",
              "      <th>23764</th>\n",
              "      <td>US</td>\n",
              "      <td>10001899</td>\n",
              "      <td>R1P1P07CYCO9UD</td>\n",
              "      <td>B00IKPYKWG</td>\n",
              "      <td>2693241</td>\n",
              "      <td>Fire HD 7, 7\" HD Display, Wi-Fi, 8 GB</td>\n",
              "      <td>PC</td>\n",
              "      <td>4</td>\n",
              "      <td>0</td>\n",
              "      <td>0</td>\n",
              "      <td>N</td>\n",
              "      <td>Y</td>\n",
              "      <td>Four Stars</td>\n",
              "      <td>Love the back light</td>\n",
              "      <td>NaN</td>\n",
              "      <td>1</td>\n",
              "    </tr>\n",
              "  </tbody>\n",
              "</table>\n",
              "<p>23765 rows × 16 columns</p>\n",
              "</div>\n",
              "      <button class=\"colab-df-convert\" onclick=\"convertToInteractive('df-cfada549-7d78-4adf-9f1f-f58fd5a83c80')\"\n",
              "              title=\"Convert this dataframe to an interactive table.\"\n",
              "              style=\"display:none;\">\n",
              "        \n",
              "  <svg xmlns=\"http://www.w3.org/2000/svg\" height=\"24px\"viewBox=\"0 0 24 24\"\n",
              "       width=\"24px\">\n",
              "    <path d=\"M0 0h24v24H0V0z\" fill=\"none\"/>\n",
              "    <path d=\"M18.56 5.44l.94 2.06.94-2.06 2.06-.94-2.06-.94-.94-2.06-.94 2.06-2.06.94zm-11 1L8.5 8.5l.94-2.06 2.06-.94-2.06-.94L8.5 2.5l-.94 2.06-2.06.94zm10 10l.94 2.06.94-2.06 2.06-.94-2.06-.94-.94-2.06-.94 2.06-2.06.94z\"/><path d=\"M17.41 7.96l-1.37-1.37c-.4-.4-.92-.59-1.43-.59-.52 0-1.04.2-1.43.59L10.3 9.45l-7.72 7.72c-.78.78-.78 2.05 0 2.83L4 21.41c.39.39.9.59 1.41.59.51 0 1.02-.2 1.41-.59l7.78-7.78 2.81-2.81c.8-.78.8-2.07 0-2.86zM5.41 20L4 18.59l7.72-7.72 1.47 1.35L5.41 20z\"/>\n",
              "  </svg>\n",
              "      </button>\n",
              "      \n",
              "  <style>\n",
              "    .colab-df-container {\n",
              "      display:flex;\n",
              "      flex-wrap:wrap;\n",
              "      gap: 12px;\n",
              "    }\n",
              "\n",
              "    .colab-df-convert {\n",
              "      background-color: #E8F0FE;\n",
              "      border: none;\n",
              "      border-radius: 50%;\n",
              "      cursor: pointer;\n",
              "      display: none;\n",
              "      fill: #1967D2;\n",
              "      height: 32px;\n",
              "      padding: 0 0 0 0;\n",
              "      width: 32px;\n",
              "    }\n",
              "\n",
              "    .colab-df-convert:hover {\n",
              "      background-color: #E2EBFA;\n",
              "      box-shadow: 0px 1px 2px rgba(60, 64, 67, 0.3), 0px 1px 3px 1px rgba(60, 64, 67, 0.15);\n",
              "      fill: #174EA6;\n",
              "    }\n",
              "\n",
              "    [theme=dark] .colab-df-convert {\n",
              "      background-color: #3B4455;\n",
              "      fill: #D2E3FC;\n",
              "    }\n",
              "\n",
              "    [theme=dark] .colab-df-convert:hover {\n",
              "      background-color: #434B5C;\n",
              "      box-shadow: 0px 1px 3px 1px rgba(0, 0, 0, 0.15);\n",
              "      filter: drop-shadow(0px 1px 2px rgba(0, 0, 0, 0.3));\n",
              "      fill: #FFFFFF;\n",
              "    }\n",
              "  </style>\n",
              "\n",
              "      <script>\n",
              "        const buttonEl =\n",
              "          document.querySelector('#df-cfada549-7d78-4adf-9f1f-f58fd5a83c80 button.colab-df-convert');\n",
              "        buttonEl.style.display =\n",
              "          google.colab.kernel.accessAllowed ? 'block' : 'none';\n",
              "\n",
              "        async function convertToInteractive(key) {\n",
              "          const element = document.querySelector('#df-cfada549-7d78-4adf-9f1f-f58fd5a83c80');\n",
              "          const dataTable =\n",
              "            await google.colab.kernel.invokeFunction('convertToInteractive',\n",
              "                                                     [key], {});\n",
              "          if (!dataTable) return;\n",
              "\n",
              "          const docLinkHtml = 'Like what you see? Visit the ' +\n",
              "            '<a target=\"_blank\" href=https://colab.research.google.com/notebooks/data_table.ipynb>data table notebook</a>'\n",
              "            + ' to learn more about interactive tables.';\n",
              "          element.innerHTML = '';\n",
              "          dataTable['output_type'] = 'display_data';\n",
              "          await google.colab.output.renderOutput(dataTable, element);\n",
              "          const docLink = document.createElement('div');\n",
              "          docLink.innerHTML = docLinkHtml;\n",
              "          element.appendChild(docLink);\n",
              "        }\n",
              "      </script>\n",
              "    </div>\n",
              "  </div>\n",
              "  "
            ],
            "text/plain": [
              "      marketplace  customer_id       review_id  product_id  product_parent  \\\n",
              "0              US     11555559  R1QXC7AHHJBQ3O  B00IKPX4GY         2693241   \n",
              "1              US     31469372  R175VSRV6ZETOP  B00IKPYKWG         2693241   \n",
              "2              US     26843895  R2HRFF78MWGY19  B00IKPW0UA         2693241   \n",
              "3              US     19844868   R8Q39WPKYVSTX  B00LCHSHMS         2693241   \n",
              "4              US      1189852  R3RL4C8YP2ZCJL  B00IKPZ5V6         2693241   \n",
              "...           ...          ...             ...         ...             ...   \n",
              "23760          US     42609859  R18FKOT4BXNPWN  B00LCI3LUA         2693241   \n",
              "23761          US      4942558   RV4SK6DQXVN80  B00IKPYKWG         2693241   \n",
              "23762          US      9628184   RW1WHM020V58G  B00LCI2I7C         2693241   \n",
              "23763          US      3254535  R2AAKXKVTUBAGU  B00IKPX4GY         2693241   \n",
              "23764          US     10001899  R1P1P07CYCO9UD  B00IKPYKWG         2693241   \n",
              "\n",
              "                               product_title product_category  star_rating  \\\n",
              "0      Fire HD 7, 7\" HD Display, Wi-Fi, 8 GB               PC            5   \n",
              "1      Fire HD 7, 7\" HD Display, Wi-Fi, 8 GB               PC            3   \n",
              "2      Fire HD 7, 7\" HD Display, Wi-Fi, 8 GB               PC            5   \n",
              "3      Fire HD 7, 7\" HD Display, Wi-Fi, 8 GB               PC            4   \n",
              "4      Fire HD 7, 7\" HD Display, Wi-Fi, 8 GB               PC            5   \n",
              "...                                      ...              ...          ...   \n",
              "23760  Fire HD 7, 7\" HD Display, Wi-Fi, 8 GB               PC            5   \n",
              "23761  Fire HD 7, 7\" HD Display, Wi-Fi, 8 GB               PC            2   \n",
              "23762  Fire HD 7, 7\" HD Display, Wi-Fi, 8 GB               PC            5   \n",
              "23763  Fire HD 7, 7\" HD Display, Wi-Fi, 8 GB               PC            5   \n",
              "23764  Fire HD 7, 7\" HD Display, Wi-Fi, 8 GB               PC            4   \n",
              "\n",
              "       helpful_votes  total_votes vine verified_purchase  \\\n",
              "0                  0            0    N                 Y   \n",
              "1                  0            0    N                 N   \n",
              "2                  0            0    N                 Y   \n",
              "3                  0            0    N                 N   \n",
              "4                  0            0    N                 Y   \n",
              "...              ...          ...  ...               ...   \n",
              "23760              0            0    N                 Y   \n",
              "23761              0            0    N                 Y   \n",
              "23762              0            0    N                 Y   \n",
              "23763              0            0    N                 Y   \n",
              "23764              0            0    N                 Y   \n",
              "\n",
              "                                         review_headline  \\\n",
              "0                                             Five Stars   \n",
              "1      Lots of ads Slow processing speed Occasionally...   \n",
              "2                                Well thought out device   \n",
              "3      Not all apps/games we were looking forward to ...   \n",
              "4                                             Five Stars   \n",
              "...                                                  ...   \n",
              "23760                               Absolutely love it!!   \n",
              "23761                                       poor product   \n",
              "23762                                         Five Stars   \n",
              "23763                           Parental control a plus!   \n",
              "23764                                         Four Stars   \n",
              "\n",
              "                                             review_body review_date  \\\n",
              "0                                          Great love it  2015-08-31   \n",
              "1      Lots of ads<br />Slow processing speed<br />Oc...  2015-08-31   \n",
              "2      Excellent unit.  The versatility of this table...  2015-08-31   \n",
              "3      I bought this on Amazon Prime so I ended up bu...  2015-08-31   \n",
              "4      All Amazon products continue to meet my expect...  2015-08-31   \n",
              "...                                                  ...         ...   \n",
              "23760  Best electronic device I have ever bought! The...  2015-01-04   \n",
              "23761  It gets extremely hot, and freezes up all the ...  2015-01-04   \n",
              "23762                                    Love it!!!!!!!!  2015-01-04   \n",
              "23763  I bought this for my daughter and she loves it...  2015-01-04   \n",
              "23764                                Love the back light         NaN   \n",
              "\n",
              "       sentiment  \n",
              "0              1  \n",
              "1              0  \n",
              "2              1  \n",
              "3              1  \n",
              "4              1  \n",
              "...          ...  \n",
              "23760          1  \n",
              "23761          0  \n",
              "23762          1  \n",
              "23763          1  \n",
              "23764          1  \n",
              "\n",
              "[23765 rows x 16 columns]"
            ]
          },
          "execution_count": 17,
          "metadata": {},
          "output_type": "execute_result"
        }
      ],
      "source": [
        "# choose a particular product for analysis\n",
        "prod_hosa = data.loc[data[\"product_title\"]=='Fire HD 7, 7\" HD Display, Wi-Fi, 8 GB']\n",
        "prod_hosa"
      ],
      "id": "514bd3a0"
    },
    {
      "cell_type": "code",
      "execution_count": null,
      "metadata": {
        "id": "407a6d49"
      },
      "outputs": [],
      "source": [
        "# #split data-set to train and test\n",
        "\n",
        "X = prod_hosa['review_body']\n",
        "Y = prod_hosa['sentiment']\n",
        "\n",
        "X_train, X_test, Y_train, Y_test = train_test_split(X, Y, test_size = 0.2, random_state=42)"
      ],
      "id": "407a6d49"
    },
    {
      "cell_type": "code",
      "execution_count": null,
      "metadata": {
        "id": "cfa941a3"
      },
      "outputs": [],
      "source": [
        "# function to remove html elements from the reviews\n",
        "def removeHTML(raw_text):\n",
        "    clean_HTML = BeautifulSoup(raw_text, 'lxml').get_text() \n",
        "    return clean_HTML"
      ],
      "id": "cfa941a3"
    },
    {
      "cell_type": "code",
      "execution_count": null,
      "metadata": {
        "id": "f98e7d58"
      },
      "outputs": [],
      "source": [
        "# function to remove special characters and numbers from the reviews4961\n",
        "def removeSpecialChar(raw_text):\n",
        "    clean_SpecialChar = re.sub(\"[^a-zA-Z]\", \" \", raw_text)  \n",
        "    return clean_SpecialChar"
      ],
      "id": "f98e7d58"
    },
    {
      "cell_type": "code",
      "execution_count": null,
      "metadata": {
        "id": "ce8f7f59"
      },
      "outputs": [],
      "source": [
        "# function to convert all reviews into lower case\n",
        "def toLowerCase(raw_text):\n",
        "    clean_LowerCase = raw_text.lower().split()\n",
        "    return( \" \".join(clean_LowerCase))  "
      ],
      "id": "ce8f7f59"
    },
    {
      "cell_type": "code",
      "execution_count": null,
      "metadata": {
        "id": "ecb762a5"
      },
      "outputs": [],
      "source": [
        "# function to remove stop words from the reviews\n",
        "def removeStopWords(raw_text):\n",
        "    stops = set(stopwords.words(\"english\"))\n",
        "    words = [w for w in raw_text if not w in stops]\n",
        "    return( \" \".join(words))"
      ],
      "id": "ecb762a5"
    },
    {
      "cell_type": "code",
      "execution_count": null,
      "metadata": {
        "colab": {
          "base_uri": "https://localhost:8080/"
        },
        "id": "k7S-mvL-xjNA",
        "outputId": "7f4fe441-8238-4d58-9629-a08dac8b2f5f"
      },
      "outputs": [
        {
          "name": "stderr",
          "output_type": "stream",
          "text": [
            "[nltk_data] Downloading package stopwords to /root/nltk_data...\n",
            "[nltk_data]   Unzipping corpora/stopwords.zip.\n"
          ]
        },
        {
          "data": {
            "text/plain": [
              "True"
            ]
          },
          "execution_count": 23,
          "metadata": {},
          "output_type": "execute_result"
        }
      ],
      "source": [
        "import nltk\n",
        "nltk.download('stopwords')\n"
      ],
      "id": "k7S-mvL-xjNA"
    },
    {
      "cell_type": "code",
      "execution_count": null,
      "metadata": {
        "colab": {
          "base_uri": "https://localhost:8080/"
        },
        "id": "1bb0203e",
        "outputId": "9e9938c9-f49a-4c0d-9735-f825fb378f37"
      },
      "outputs": [
        {
          "name": "stderr",
          "output_type": "stream",
          "text": [
            "<ipython-input-19-c0f252bc04f4>:3: MarkupResemblesLocatorWarning: The input looks more like a filename than markup. You may want to open this file and pass the filehandle into Beautiful Soup.\n",
            "  clean_HTML = BeautifulSoup(raw_text, 'lxml').get_text()\n"
          ]
        }
      ],
      "source": [
        "# X_training clean set\n",
        "X_train_cleaned = []\n",
        "\n",
        "for val in X_train:\n",
        "    val = removeHTML(val)\n",
        "    val = removeSpecialChar(val)\n",
        "    val = toLowerCase(val)\n",
        "    removeStopWords(val) \n",
        "    X_train_cleaned.append(val) "
      ],
      "id": "1bb0203e"
    },
    {
      "cell_type": "code",
      "execution_count": null,
      "metadata": {
        "colab": {
          "base_uri": "https://localhost:8080/"
        },
        "id": "506086ea",
        "outputId": "f762131d-22f9-4a4b-dc5e-ac609f86fd84"
      },
      "outputs": [
        {
          "name": "stderr",
          "output_type": "stream",
          "text": [
            "<ipython-input-19-c0f252bc04f4>:3: MarkupResemblesLocatorWarning: The input looks more like a filename than markup. You may want to open this file and pass the filehandle into Beautiful Soup.\n",
            "  clean_HTML = BeautifulSoup(raw_text, 'lxml').get_text()\n"
          ]
        }
      ],
      "source": [
        "# X_testing clean set\n",
        "X_test_cleaned = []\n",
        "\n",
        "for val in X_test:\n",
        "    val = removeHTML(val)\n",
        "    val = removeSpecialChar(val)\n",
        "    val = toLowerCase(val)\n",
        "    removeStopWords(val)\n",
        "    X_test_cleaned.append(val) "
      ],
      "id": "506086ea"
    },
    {
      "cell_type": "code",
      "execution_count": null,
      "metadata": {
        "id": "38a51b6d"
      },
      "outputs": [],
      "source": [
        "# Convert a collection of raw documents to a matrix of TF-IDF features. This is required so as to train the model using features instead of \n",
        "# raw strings.\n",
        "tvec = TfidfVectorizer(use_idf=True,\n",
        "strip_accents='ascii')\n",
        "\n",
        "X_train_tvec = tvec.fit_transform(X_train_cleaned)"
      ],
      "id": "38a51b6d"
    },
    {
      "cell_type": "code",
      "execution_count": null,
      "metadata": {
        "colab": {
          "base_uri": "https://localhost:8080/",
          "height": 74
        },
        "id": "f4afb38b",
        "outputId": "5baecd71-9eeb-4d76-f78e-1a96751fb17e"
      },
      "outputs": [
        {
          "data": {
            "text/html": [
              "<style>#sk-container-id-1 {color: black;background-color: white;}#sk-container-id-1 pre{padding: 0;}#sk-container-id-1 div.sk-toggleable {background-color: white;}#sk-container-id-1 label.sk-toggleable__label {cursor: pointer;display: block;width: 100%;margin-bottom: 0;padding: 0.3em;box-sizing: border-box;text-align: center;}#sk-container-id-1 label.sk-toggleable__label-arrow:before {content: \"▸\";float: left;margin-right: 0.25em;color: #696969;}#sk-container-id-1 label.sk-toggleable__label-arrow:hover:before {color: black;}#sk-container-id-1 div.sk-estimator:hover label.sk-toggleable__label-arrow:before {color: black;}#sk-container-id-1 div.sk-toggleable__content {max-height: 0;max-width: 0;overflow: hidden;text-align: left;background-color: #f0f8ff;}#sk-container-id-1 div.sk-toggleable__content pre {margin: 0.2em;color: black;border-radius: 0.25em;background-color: #f0f8ff;}#sk-container-id-1 input.sk-toggleable__control:checked~div.sk-toggleable__content {max-height: 200px;max-width: 100%;overflow: auto;}#sk-container-id-1 input.sk-toggleable__control:checked~label.sk-toggleable__label-arrow:before {content: \"▾\";}#sk-container-id-1 div.sk-estimator input.sk-toggleable__control:checked~label.sk-toggleable__label {background-color: #d4ebff;}#sk-container-id-1 div.sk-label input.sk-toggleable__control:checked~label.sk-toggleable__label {background-color: #d4ebff;}#sk-container-id-1 input.sk-hidden--visually {border: 0;clip: rect(1px 1px 1px 1px);clip: rect(1px, 1px, 1px, 1px);height: 1px;margin: -1px;overflow: hidden;padding: 0;position: absolute;width: 1px;}#sk-container-id-1 div.sk-estimator {font-family: monospace;background-color: #f0f8ff;border: 1px dotted black;border-radius: 0.25em;box-sizing: border-box;margin-bottom: 0.5em;}#sk-container-id-1 div.sk-estimator:hover {background-color: #d4ebff;}#sk-container-id-1 div.sk-parallel-item::after {content: \"\";width: 100%;border-bottom: 1px solid gray;flex-grow: 1;}#sk-container-id-1 div.sk-label:hover label.sk-toggleable__label {background-color: #d4ebff;}#sk-container-id-1 div.sk-serial::before {content: \"\";position: absolute;border-left: 1px solid gray;box-sizing: border-box;top: 0;bottom: 0;left: 50%;z-index: 0;}#sk-container-id-1 div.sk-serial {display: flex;flex-direction: column;align-items: center;background-color: white;padding-right: 0.2em;padding-left: 0.2em;position: relative;}#sk-container-id-1 div.sk-item {position: relative;z-index: 1;}#sk-container-id-1 div.sk-parallel {display: flex;align-items: stretch;justify-content: center;background-color: white;position: relative;}#sk-container-id-1 div.sk-item::before, #sk-container-id-1 div.sk-parallel-item::before {content: \"\";position: absolute;border-left: 1px solid gray;box-sizing: border-box;top: 0;bottom: 0;left: 50%;z-index: -1;}#sk-container-id-1 div.sk-parallel-item {display: flex;flex-direction: column;z-index: 1;position: relative;background-color: white;}#sk-container-id-1 div.sk-parallel-item:first-child::after {align-self: flex-end;width: 50%;}#sk-container-id-1 div.sk-parallel-item:last-child::after {align-self: flex-start;width: 50%;}#sk-container-id-1 div.sk-parallel-item:only-child::after {width: 0;}#sk-container-id-1 div.sk-dashed-wrapped {border: 1px dashed gray;margin: 0 0.4em 0.5em 0.4em;box-sizing: border-box;padding-bottom: 0.4em;background-color: white;}#sk-container-id-1 div.sk-label label {font-family: monospace;font-weight: bold;display: inline-block;line-height: 1.2em;}#sk-container-id-1 div.sk-label-container {text-align: center;}#sk-container-id-1 div.sk-container {/* jupyter's `normalize.less` sets `[hidden] { display: none; }` but bootstrap.min.css set `[hidden] { display: none !important; }` so we also need the `!important` here to be able to override the default hidden behavior on the sphinx rendered scikit-learn.org. See: https://github.com/scikit-learn/scikit-learn/issues/21755 */display: inline-block !important;position: relative;}#sk-container-id-1 div.sk-text-repr-fallback {display: none;}</style><div id=\"sk-container-id-1\" class=\"sk-top-container\"><div class=\"sk-text-repr-fallback\"><pre>LinearSVC(dual=False)</pre><b>In a Jupyter environment, please rerun this cell to show the HTML representation or trust the notebook. <br />On GitHub, the HTML representation is unable to render, please try loading this page with nbviewer.org.</b></div><div class=\"sk-container\" hidden><div class=\"sk-item\"><div class=\"sk-estimator sk-toggleable\"><input class=\"sk-toggleable__control sk-hidden--visually\" id=\"sk-estimator-id-1\" type=\"checkbox\" checked><label for=\"sk-estimator-id-1\" class=\"sk-toggleable__label sk-toggleable__label-arrow\">LinearSVC</label><div class=\"sk-toggleable__content\"><pre>LinearSVC(dual=False)</pre></div></div></div></div></div>"
            ],
            "text/plain": [
              "LinearSVC(dual=False)"
            ]
          },
          "execution_count": 27,
          "metadata": {},
          "output_type": "execute_result"
        }
      ],
      "source": [
        "# Support Vector Classifier model\n",
        "svr_lin = LinearSVC(multi_class='ovr',C=1.0,loss='squared_hinge', dual=False)\n",
        "svr_lin.fit(X_train_tvec, Y_train)"
      ],
      "id": "f4afb38b"
    },
    {
      "cell_type": "code",
      "execution_count": null,
      "metadata": {
        "colab": {
          "base_uri": "https://localhost:8080/",
          "height": 206
        },
        "id": "e7ffd6b0",
        "outputId": "01a7dd0a-dbfe-4eb8-a6b7-15268778cc0a"
      },
      "outputs": [
        {
          "data": {
            "text/html": [
              "<style type=\"text/css\">\n",
              "#T_c940c_row0_col0, #T_c940c_row0_col1, #T_c940c_row0_col2, #T_c940c_row2_col3 {\n",
              "  background-color: #f2f2dd;\n",
              "  color: #000000;\n",
              "}\n",
              "#T_c940c_row0_col3 {\n",
              "  background-color: #f4f4bb;\n",
              "  color: #000000;\n",
              "}\n",
              "#T_c940c_row1_col0, #T_c940c_row1_col1, #T_c940c_row1_col2, #T_c940c_row3_col3, #T_c940c_row4_col3 {\n",
              "  background-color: #ffff00;\n",
              "  color: #000000;\n",
              "}\n",
              "#T_c940c_row1_col3, #T_c940c_row2_col2, #T_c940c_row4_col2 {\n",
              "  background-color: #fdfd23;\n",
              "  color: #000000;\n",
              "}\n",
              "#T_c940c_row2_col0, #T_c940c_row4_col0 {\n",
              "  background-color: #fdfd21;\n",
              "  color: #000000;\n",
              "}\n",
              "#T_c940c_row2_col1, #T_c940c_row4_col1 {\n",
              "  background-color: #fdfd24;\n",
              "  color: #000000;\n",
              "}\n",
              "#T_c940c_row3_col0 {\n",
              "  background-color: #f9f96e;\n",
              "  color: #000000;\n",
              "}\n",
              "#T_c940c_row3_col1 {\n",
              "  background-color: #f9f96b;\n",
              "  color: #000000;\n",
              "}\n",
              "#T_c940c_row3_col2 {\n",
              "  background-color: #f8f873;\n",
              "  color: #000000;\n",
              "}\n",
              "</style>\n",
              "<table id=\"T_c940c\" class=\"dataframe\">\n",
              "  <thead>\n",
              "    <tr>\n",
              "      <th class=\"blank level0\" >&nbsp;</th>\n",
              "      <th id=\"T_c940c_level0_col0\" class=\"col_heading level0 col0\" >precision</th>\n",
              "      <th id=\"T_c940c_level0_col1\" class=\"col_heading level0 col1\" >recall</th>\n",
              "      <th id=\"T_c940c_level0_col2\" class=\"col_heading level0 col2\" >f1-score</th>\n",
              "      <th id=\"T_c940c_level0_col3\" class=\"col_heading level0 col3\" >support</th>\n",
              "    </tr>\n",
              "  </thead>\n",
              "  <tbody>\n",
              "    <tr>\n",
              "      <th id=\"T_c940c_level0_row0\" class=\"row_heading level0 row0\" >0</th>\n",
              "      <td id=\"T_c940c_row0_col0\" class=\"data row0 col0\" >0.740000</td>\n",
              "      <td id=\"T_c940c_row0_col1\" class=\"data row0 col1\" >0.650000</td>\n",
              "      <td id=\"T_c940c_row0_col2\" class=\"data row0 col2\" >0.700000</td>\n",
              "      <td id=\"T_c940c_row0_col3\" class=\"data row0 col3\" >756.000000</td>\n",
              "    </tr>\n",
              "    <tr>\n",
              "      <th id=\"T_c940c_level0_row1\" class=\"row_heading level0 row1\" >1</th>\n",
              "      <td id=\"T_c940c_row1_col0\" class=\"data row1 col0\" >0.940000</td>\n",
              "      <td id=\"T_c940c_row1_col1\" class=\"data row1 col1\" >0.960000</td>\n",
              "      <td id=\"T_c940c_row1_col2\" class=\"data row1 col2\" >0.950000</td>\n",
              "      <td id=\"T_c940c_row1_col3\" class=\"data row1 col3\" >3997.000000</td>\n",
              "    </tr>\n",
              "    <tr>\n",
              "      <th id=\"T_c940c_level0_row2\" class=\"row_heading level0 row2\" >accuracy</th>\n",
              "      <td id=\"T_c940c_row2_col0\" class=\"data row2 col0\" >0.910000</td>\n",
              "      <td id=\"T_c940c_row2_col1\" class=\"data row2 col1\" >0.910000</td>\n",
              "      <td id=\"T_c940c_row2_col2\" class=\"data row2 col2\" >0.910000</td>\n",
              "      <td id=\"T_c940c_row2_col3\" class=\"data row2 col3\" >0.910000</td>\n",
              "    </tr>\n",
              "    <tr>\n",
              "      <th id=\"T_c940c_level0_row3\" class=\"row_heading level0 row3\" >macro avg</th>\n",
              "      <td id=\"T_c940c_row3_col0\" class=\"data row3 col0\" >0.840000</td>\n",
              "      <td id=\"T_c940c_row3_col1\" class=\"data row3 col1\" >0.810000</td>\n",
              "      <td id=\"T_c940c_row3_col2\" class=\"data row3 col2\" >0.820000</td>\n",
              "      <td id=\"T_c940c_row3_col3\" class=\"data row3 col3\" >4753.000000</td>\n",
              "    </tr>\n",
              "    <tr>\n",
              "      <th id=\"T_c940c_level0_row4\" class=\"row_heading level0 row4\" >weighted avg</th>\n",
              "      <td id=\"T_c940c_row4_col0\" class=\"data row4 col0\" >0.910000</td>\n",
              "      <td id=\"T_c940c_row4_col1\" class=\"data row4 col1\" >0.910000</td>\n",
              "      <td id=\"T_c940c_row4_col2\" class=\"data row4 col2\" >0.910000</td>\n",
              "      <td id=\"T_c940c_row4_col3\" class=\"data row4 col3\" >4753.000000</td>\n",
              "    </tr>\n",
              "  </tbody>\n",
              "</table>\n"
            ],
            "text/plain": [
              "<pandas.io.formats.style.Styler at 0x7fddcd2925f0>"
            ]
          },
          "execution_count": 28,
          "metadata": {},
          "output_type": "execute_result"
        }
      ],
      "source": [
        "# Predict using training and testing data and display the accuracy, f-1 score, precision for Positive and Negative Sentiment Classifiers \n",
        "svr_lin_predictions = svr_lin.predict(tvec.transform(X_test_cleaned))\n",
        "report = classification_report(Y_test,svr_lin_predictions, output_dict=True)\n",
        "data_report = pd.DataFrame(report).transpose().round(2)\n",
        "cm = sns.light_palette(\"yellow\", as_cmap=True)\n",
        "data_report.style.background_gradient(cmap=cm)"
      ],
      "id": "e7ffd6b0"
    },
    {
      "cell_type": "code",
      "execution_count": null,
      "metadata": {
        "colab": {
          "base_uri": "https://localhost:8080/",
          "height": 472
        },
        "id": "7b009f87",
        "outputId": "385e20c3-6d55-4cdb-814b-72b886530158"
      },
      "outputs": [
        {
          "data": {
            "image/png": "[encoded data removed]",
            "text/plain": [
              "<Figure size 640x480 with 2 Axes>"
            ]
          },
          "metadata": {},
          "output_type": "display_data"
        }
      ],
      "source": [
        "# confusion matrix\n",
        "svr_lin_predictions=svr_lin.predict(tvec.transform(X_test_cleaned))\n",
        "ax= plt.subplot()\n",
        "cm=confusion_matrix(Y_test,svr_lin_predictions)\n",
        "sns.heatmap(cm, annot=True, fmt='g', ax=ax,cmap='Greens');  \n",
        "ax.set_xlabel('Predicted labels');ax.set_ylabel('True labels');\n",
        "ax.set_title('Confusion Matrix');\n",
        "ax.xaxis.set_ticklabels(['negative', 'positive']); ax.yaxis.set_ticklabels(['negative', 'positive']);"
      ],
      "id": "7b009f87"
    },
    {
      "cell_type": "code",
      "execution_count": null,
      "metadata": {
        "colab": {
          "base_uri": "https://localhost:8080/"
        },
        "id": "a31b0c14",
        "outputId": "7711be84-bddb-40b4-f098-7c6469e6c351"
      },
      "outputs": [
        {
          "name": "stdout",
          "output_type": "stream",
          "text": [
            "[0]\n"
          ]
        }
      ],
      "source": [
        "# testing the model with sample 'Negative' review\n",
        "demo_review = np.array(['three days of use and it broke very disappointed in this product it worked perfectly for exactly three days and could not be resuscitated it was very inexpensive so i did not want to pay half again the price to ship it back for an exchange so the company would do nothing when they sent me an inquiry as to product satisfaction'])\n",
        "demo_review_X_test = tvec.transform(demo_review)\n",
        "print(svr_lin.predict(demo_review_X_test))\n",
        "\n",
        "# expected output = 0 (Negative)\n",
        "# actual output = 0 (Negative)"
      ],
      "id": "a31b0c14"
    },
    {
      "cell_type": "code",
      "execution_count": null,
      "metadata": {
        "colab": {
          "base_uri": "https://localhost:8080/"
        },
        "id": "2fead1c2",
        "outputId": "f14a0b05-eedf-4f86-ffc1-e5cdf35fa4ab"
      },
      "outputs": [
        {
          "name": "stdout",
          "output_type": "stream",
          "text": [
            "[1]\n"
          ]
        }
      ],
      "source": [
        "# testing the model with sample 'Positive' review\n",
        "demo_review_2 = np.array(['Excellent product. Works well and performs as expected.'])\n",
        "demo_review_X_test_2 = tvec.transform(demo_review_2)\n",
        "print(svr_lin.predict(demo_review_X_test_2))\n",
        "\n",
        "# expected output = 1 (Positive)\n",
        "# actual output = 1 (Positive)"
      ],
      "id": "2fead1c2"
    },
    {
      "cell_type": "code",
      "execution_count": null,
      "metadata": {
        "colab": {
          "base_uri": "https://localhost:8080/",
          "height": 74
        },
        "id": "7f5d4c0c",
        "outputId": "bf61c136-e81a-4781-eccf-0327a305870a"
      },
      "outputs": [
        {
          "data": {
            "text/html": [
              "<style>#sk-container-id-2 {color: black;background-color: white;}#sk-container-id-2 pre{padding: 0;}#sk-container-id-2 div.sk-toggleable {background-color: white;}#sk-container-id-2 label.sk-toggleable__label {cursor: pointer;display: block;width: 100%;margin-bottom: 0;padding: 0.3em;box-sizing: border-box;text-align: center;}#sk-container-id-2 label.sk-toggleable__label-arrow:before {content: \"▸\";float: left;margin-right: 0.25em;color: #696969;}#sk-container-id-2 label.sk-toggleable__label-arrow:hover:before {color: black;}#sk-container-id-2 div.sk-estimator:hover label.sk-toggleable__label-arrow:before {color: black;}#sk-container-id-2 div.sk-toggleable__content {max-height: 0;max-width: 0;overflow: hidden;text-align: left;background-color: #f0f8ff;}#sk-container-id-2 div.sk-toggleable__content pre {margin: 0.2em;color: black;border-radius: 0.25em;background-color: #f0f8ff;}#sk-container-id-2 input.sk-toggleable__control:checked~div.sk-toggleable__content {max-height: 200px;max-width: 100%;overflow: auto;}#sk-container-id-2 input.sk-toggleable__control:checked~label.sk-toggleable__label-arrow:before {content: \"▾\";}#sk-container-id-2 div.sk-estimator input.sk-toggleable__control:checked~label.sk-toggleable__label {background-color: #d4ebff;}#sk-container-id-2 div.sk-label input.sk-toggleable__control:checked~label.sk-toggleable__label {background-color: #d4ebff;}#sk-container-id-2 input.sk-hidden--visually {border: 0;clip: rect(1px 1px 1px 1px);clip: rect(1px, 1px, 1px, 1px);height: 1px;margin: -1px;overflow: hidden;padding: 0;position: absolute;width: 1px;}#sk-container-id-2 div.sk-estimator {font-family: monospace;background-color: #f0f8ff;border: 1px dotted black;border-radius: 0.25em;box-sizing: border-box;margin-bottom: 0.5em;}#sk-container-id-2 div.sk-estimator:hover {background-color: #d4ebff;}#sk-container-id-2 div.sk-parallel-item::after {content: \"\";width: 100%;border-bottom: 1px solid gray;flex-grow: 1;}#sk-container-id-2 div.sk-label:hover label.sk-toggleable__label {background-color: #d4ebff;}#sk-container-id-2 div.sk-serial::before {content: \"\";position: absolute;border-left: 1px solid gray;box-sizing: border-box;top: 0;bottom: 0;left: 50%;z-index: 0;}#sk-container-id-2 div.sk-serial {display: flex;flex-direction: column;align-items: center;background-color: white;padding-right: 0.2em;padding-left: 0.2em;position: relative;}#sk-container-id-2 div.sk-item {position: relative;z-index: 1;}#sk-container-id-2 div.sk-parallel {display: flex;align-items: stretch;justify-content: center;background-color: white;position: relative;}#sk-container-id-2 div.sk-item::before, #sk-container-id-2 div.sk-parallel-item::before {content: \"\";position: absolute;border-left: 1px solid gray;box-sizing: border-box;top: 0;bottom: 0;left: 50%;z-index: -1;}#sk-container-id-2 div.sk-parallel-item {display: flex;flex-direction: column;z-index: 1;position: relative;background-color: white;}#sk-container-id-2 div.sk-parallel-item:first-child::after {align-self: flex-end;width: 50%;}#sk-container-id-2 div.sk-parallel-item:last-child::after {align-self: flex-start;width: 50%;}#sk-container-id-2 div.sk-parallel-item:only-child::after {width: 0;}#sk-container-id-2 div.sk-dashed-wrapped {border: 1px dashed gray;margin: 0 0.4em 0.5em 0.4em;box-sizing: border-box;padding-bottom: 0.4em;background-color: white;}#sk-container-id-2 div.sk-label label {font-family: monospace;font-weight: bold;display: inline-block;line-height: 1.2em;}#sk-container-id-2 div.sk-label-container {text-align: center;}#sk-container-id-2 div.sk-container {/* jupyter's `normalize.less` sets `[hidden] { display: none; }` but bootstrap.min.css set `[hidden] { display: none !important; }` so we also need the `!important` here to be able to override the default hidden behavior on the sphinx rendered scikit-learn.org. See: https://github.com/scikit-learn/scikit-learn/issues/21755 */display: inline-block !important;position: relative;}#sk-container-id-2 div.sk-text-repr-fallback {display: none;}</style><div id=\"sk-container-id-2\" class=\"sk-top-container\"><div class=\"sk-text-repr-fallback\"><pre>RandomForestClassifier()</pre><b>In a Jupyter environment, please rerun this cell to show the HTML representation or trust the notebook. <br />On GitHub, the HTML representation is unable to render, please try loading this page with nbviewer.org.</b></div><div class=\"sk-container\" hidden><div class=\"sk-item\"><div class=\"sk-estimator sk-toggleable\"><input class=\"sk-toggleable__control sk-hidden--visually\" id=\"sk-estimator-id-2\" type=\"checkbox\" checked><label for=\"sk-estimator-id-2\" class=\"sk-toggleable__label sk-toggleable__label-arrow\">RandomForestClassifier</label><div class=\"sk-toggleable__content\"><pre>RandomForestClassifier()</pre></div></div></div></div></div>"
            ],
            "text/plain": [
              "RandomForestClassifier()"
            ]
          },
          "execution_count": 32,
          "metadata": {},
          "output_type": "execute_result"
        }
      ],
      "source": [
        "# Random Forest model\n",
        "random_forest = RandomForestClassifier()\n",
        "random_forest.fit(X_train_tvec, Y_train)"
      ],
      "id": "7f5d4c0c"
    },
    {
      "cell_type": "code",
      "execution_count": null,
      "metadata": {
        "colab": {
          "base_uri": "https://localhost:8080/",
          "height": 206
        },
        "id": "a8875798",
        "outputId": "7221f786-d8c1-4fbb-a409-905b1e65c0d2"
      },
      "outputs": [
        {
          "data": {
            "text/html": [
              "<style type=\"text/css\">\n",
              "#T_8f22a_row0_col0, #T_8f22a_row0_col1, #T_8f22a_row0_col2, #T_8f22a_row2_col3 {\n",
              "  background-color: #f3f0f0;\n",
              "  color: #000000;\n",
              "}\n",
              "#T_8f22a_row0_col3 {\n",
              "  background-color: #f5caca;\n",
              "  color: #000000;\n",
              "}\n",
              "#T_8f22a_row1_col0, #T_8f22a_row1_col1, #T_8f22a_row1_col2, #T_8f22a_row2_col0, #T_8f22a_row3_col3, #T_8f22a_row4_col0, #T_8f22a_row4_col3 {\n",
              "  background-color: #ff0000;\n",
              "  color: #f1f1f1;\n",
              "}\n",
              "#T_8f22a_row1_col3, #T_8f22a_row4_col2 {\n",
              "  background-color: #fd2626;\n",
              "  color: #f1f1f1;\n",
              "}\n",
              "#T_8f22a_row2_col1, #T_8f22a_row4_col1 {\n",
              "  background-color: #fd2525;\n",
              "  color: #f1f1f1;\n",
              "}\n",
              "#T_8f22a_row2_col2 {\n",
              "  background-color: #fe1818;\n",
              "  color: #f1f1f1;\n",
              "}\n",
              "#T_8f22a_row3_col0 {\n",
              "  background-color: #f97878;\n",
              "  color: #f1f1f1;\n",
              "}\n",
              "#T_8f22a_row3_col1 {\n",
              "  background-color: #f97979;\n",
              "  color: #f1f1f1;\n",
              "}\n",
              "#T_8f22a_row3_col2 {\n",
              "  background-color: #f97676;\n",
              "  color: #f1f1f1;\n",
              "}\n",
              "</style>\n",
              "<table id=\"T_8f22a\" class=\"dataframe\">\n",
              "  <thead>\n",
              "    <tr>\n",
              "      <th class=\"blank level0\" >&nbsp;</th>\n",
              "      <th id=\"T_8f22a_level0_col0\" class=\"col_heading level0 col0\" >precision</th>\n",
              "      <th id=\"T_8f22a_level0_col1\" class=\"col_heading level0 col1\" >recall</th>\n",
              "      <th id=\"T_8f22a_level0_col2\" class=\"col_heading level0 col2\" >f1-score</th>\n",
              "      <th id=\"T_8f22a_level0_col3\" class=\"col_heading level0 col3\" >support</th>\n",
              "    </tr>\n",
              "  </thead>\n",
              "  <tbody>\n",
              "    <tr>\n",
              "      <th id=\"T_8f22a_level0_row0\" class=\"row_heading level0 row0\" >0</th>\n",
              "      <td id=\"T_8f22a_row0_col0\" class=\"data row0 col0\" >0.860000</td>\n",
              "      <td id=\"T_8f22a_row0_col1\" class=\"data row0 col1\" >0.280000</td>\n",
              "      <td id=\"T_8f22a_row0_col2\" class=\"data row0 col2\" >0.420000</td>\n",
              "      <td id=\"T_8f22a_row0_col3\" class=\"data row0 col3\" >756.000000</td>\n",
              "    </tr>\n",
              "    <tr>\n",
              "      <th id=\"T_8f22a_level0_row1\" class=\"row_heading level0 row1\" >1</th>\n",
              "      <td id=\"T_8f22a_row1_col0\" class=\"data row1 col0\" >0.880000</td>\n",
              "      <td id=\"T_8f22a_row1_col1\" class=\"data row1 col1\" >0.990000</td>\n",
              "      <td id=\"T_8f22a_row1_col2\" class=\"data row1 col2\" >0.930000</td>\n",
              "      <td id=\"T_8f22a_row1_col3\" class=\"data row1 col3\" >3997.000000</td>\n",
              "    </tr>\n",
              "    <tr>\n",
              "      <th id=\"T_8f22a_level0_row2\" class=\"row_heading level0 row2\" >accuracy</th>\n",
              "      <td id=\"T_8f22a_row2_col0\" class=\"data row2 col0\" >0.880000</td>\n",
              "      <td id=\"T_8f22a_row2_col1\" class=\"data row2 col1\" >0.880000</td>\n",
              "      <td id=\"T_8f22a_row2_col2\" class=\"data row2 col2\" >0.880000</td>\n",
              "      <td id=\"T_8f22a_row2_col3\" class=\"data row2 col3\" >0.880000</td>\n",
              "    </tr>\n",
              "    <tr>\n",
              "      <th id=\"T_8f22a_level0_row3\" class=\"row_heading level0 row3\" >macro avg</th>\n",
              "      <td id=\"T_8f22a_row3_col0\" class=\"data row3 col0\" >0.870000</td>\n",
              "      <td id=\"T_8f22a_row3_col1\" class=\"data row3 col1\" >0.630000</td>\n",
              "      <td id=\"T_8f22a_row3_col2\" class=\"data row3 col2\" >0.680000</td>\n",
              "      <td id=\"T_8f22a_row3_col3\" class=\"data row3 col3\" >4753.000000</td>\n",
              "    </tr>\n",
              "    <tr>\n",
              "      <th id=\"T_8f22a_level0_row4\" class=\"row_heading level0 row4\" >weighted avg</th>\n",
              "      <td id=\"T_8f22a_row4_col0\" class=\"data row4 col0\" >0.880000</td>\n",
              "      <td id=\"T_8f22a_row4_col1\" class=\"data row4 col1\" >0.880000</td>\n",
              "      <td id=\"T_8f22a_row4_col2\" class=\"data row4 col2\" >0.850000</td>\n",
              "      <td id=\"T_8f22a_row4_col3\" class=\"data row4 col3\" >4753.000000</td>\n",
              "    </tr>\n",
              "  </tbody>\n",
              "</table>\n"
            ],
            "text/plain": [
              "<pandas.io.formats.style.Styler at 0x7fddcd083d00>"
            ]
          },
          "execution_count": 33,
          "metadata": {},
          "output_type": "execute_result"
        }
      ],
      "source": [
        "# Predict using training and testing data and display the accuracy, f-1 score, precision for Positive and Negative Sentiment Classifiers \n",
        "ranfrst_predictions = random_forest.predict(tvec.transform(X_test_cleaned))\n",
        "report = classification_report(Y_test,ranfrst_predictions, output_dict=True)\n",
        "data_report = pd.DataFrame(report).transpose().round(2)\n",
        "cm = sns.light_palette(\"red\", as_cmap=True)\n",
        "data_report.style.background_gradient(cmap=cm)"
      ],
      "id": "a8875798"
    },
    {
      "cell_type": "code",
      "execution_count": null,
      "metadata": {
        "colab": {
          "base_uri": "https://localhost:8080/",
          "height": 472
        },
        "id": "83c301e0",
        "outputId": "4c4b7363-63ab-4a65-8ce7-06c03991674e"
      },
      "outputs": [
        {
          "data": {
            "image/png": "[encoded data removed]",
            "text/plain": [
              "<Figure size 640x480 with 2 Axes>"
            ]
          },
          "metadata": {},
          "output_type": "display_data"
        }
      ],
      "source": [
        "# confusion matrix\n",
        "ranfrst_predictions=random_forest.predict(tvec.transform(X_test_cleaned))\n",
        "ax= plt.subplot()\n",
        "cm=confusion_matrix(Y_test,ranfrst_predictions)\n",
        "sns.heatmap(cm, annot=True, fmt='g', ax=ax,cmap='Oranges');  \n",
        "ax.set_xlabel('Predicted labels');ax.set_ylabel('True labels');\n",
        "ax.set_title('Confusion Matrix');\n",
        "ax.xaxis.set_ticklabels(['negative', 'positive']); ax.yaxis.set_ticklabels(['negative', 'positive']);"
      ],
      "id": "83c301e0"
    },
    {
      "cell_type": "code",
      "execution_count": null,
      "metadata": {
        "colab": {
          "base_uri": "https://localhost:8080/"
        },
        "id": "39be4042",
        "outputId": "cfb41d7f-4d57-4f36-804b-a4ec37bffe24"
      },
      "outputs": [
        {
          "name": "stdout",
          "output_type": "stream",
          "text": [
            "[1]\n"
          ]
        }
      ],
      "source": [
        "# testing the model with sample 'Negative' review\n",
        "demo_review = np.array(['very good'])\n",
        "demo_review_X_test = tvec.transform(demo_review)\n",
        "print(random_forest.predict(demo_review_X_test))\n",
        "\n",
        "# expected output = 0 (Negative)\n",
        "# actual output = 0 (Negative)"
      ],
      "id": "39be4042"
    },
    {
      "cell_type": "code",
      "execution_count": null,
      "metadata": {
        "colab": {
          "base_uri": "https://localhost:8080/"
        },
        "id": "8877d520",
        "outputId": "8c7c95ff-034f-4cc5-e965-d24c7c021c71"
      },
      "outputs": [
        {
          "name": "stdout",
          "output_type": "stream",
          "text": [
            "[1]\n"
          ]
        }
      ],
      "source": [
        "# testing the model with sample 'Positive' review\n",
        "demo_review_2 = np.array(['Original Product. Great Performance.'])\n",
        "demo_review_X_test_2 = tvec.transform(demo_review_2)\n",
        "print(random_forest.predict(demo_review_X_test_2))\n",
        "\n",
        "# expected output = 1 (Positive)\n",
        "# actual output = 1 (Positive)"
      ],
      "id": "8877d520"
    },
    {
      "cell_type": "code",
      "execution_count": null,
      "metadata": {
        "colab": {
          "base_uri": "https://localhost:8080/",
          "height": 74
        },
        "id": "662dced1",
        "outputId": "a29b4708-9957-452c-ceab-4bdb4c3aa0d3"
      },
      "outputs": [
        {
          "data": {
            "text/html": [
              "<style>#sk-container-id-3 {color: black;background-color: white;}#sk-container-id-3 pre{padding: 0;}#sk-container-id-3 div.sk-toggleable {background-color: white;}#sk-container-id-3 label.sk-toggleable__label {cursor: pointer;display: block;width: 100%;margin-bottom: 0;padding: 0.3em;box-sizing: border-box;text-align: center;}#sk-container-id-3 label.sk-toggleable__label-arrow:before {content: \"▸\";float: left;margin-right: 0.25em;color: #696969;}#sk-container-id-3 label.sk-toggleable__label-arrow:hover:before {color: black;}#sk-container-id-3 div.sk-estimator:hover label.sk-toggleable__label-arrow:before {color: black;}#sk-container-id-3 div.sk-toggleable__content {max-height: 0;max-width: 0;overflow: hidden;text-align: left;background-color: #f0f8ff;}#sk-container-id-3 div.sk-toggleable__content pre {margin: 0.2em;color: black;border-radius: 0.25em;background-color: #f0f8ff;}#sk-container-id-3 input.sk-toggleable__control:checked~div.sk-toggleable__content {max-height: 200px;max-width: 100%;overflow: auto;}#sk-container-id-3 input.sk-toggleable__control:checked~label.sk-toggleable__label-arrow:before {content: \"▾\";}#sk-container-id-3 div.sk-estimator input.sk-toggleable__control:checked~label.sk-toggleable__label {background-color: #d4ebff;}#sk-container-id-3 div.sk-label input.sk-toggleable__control:checked~label.sk-toggleable__label {background-color: #d4ebff;}#sk-container-id-3 input.sk-hidden--visually {border: 0;clip: rect(1px 1px 1px 1px);clip: rect(1px, 1px, 1px, 1px);height: 1px;margin: -1px;overflow: hidden;padding: 0;position: absolute;width: 1px;}#sk-container-id-3 div.sk-estimator {font-family: monospace;background-color: #f0f8ff;border: 1px dotted black;border-radius: 0.25em;box-sizing: border-box;margin-bottom: 0.5em;}#sk-container-id-3 div.sk-estimator:hover {background-color: #d4ebff;}#sk-container-id-3 div.sk-parallel-item::after {content: \"\";width: 100%;border-bottom: 1px solid gray;flex-grow: 1;}#sk-container-id-3 div.sk-label:hover label.sk-toggleable__label {background-color: #d4ebff;}#sk-container-id-3 div.sk-serial::before {content: \"\";position: absolute;border-left: 1px solid gray;box-sizing: border-box;top: 0;bottom: 0;left: 50%;z-index: 0;}#sk-container-id-3 div.sk-serial {display: flex;flex-direction: column;align-items: center;background-color: white;padding-right: 0.2em;padding-left: 0.2em;position: relative;}#sk-container-id-3 div.sk-item {position: relative;z-index: 1;}#sk-container-id-3 div.sk-parallel {display: flex;align-items: stretch;justify-content: center;background-color: white;position: relative;}#sk-container-id-3 div.sk-item::before, #sk-container-id-3 div.sk-parallel-item::before {content: \"\";position: absolute;border-left: 1px solid gray;box-sizing: border-box;top: 0;bottom: 0;left: 50%;z-index: -1;}#sk-container-id-3 div.sk-parallel-item {display: flex;flex-direction: column;z-index: 1;position: relative;background-color: white;}#sk-container-id-3 div.sk-parallel-item:first-child::after {align-self: flex-end;width: 50%;}#sk-container-id-3 div.sk-parallel-item:last-child::after {align-self: flex-start;width: 50%;}#sk-container-id-3 div.sk-parallel-item:only-child::after {width: 0;}#sk-container-id-3 div.sk-dashed-wrapped {border: 1px dashed gray;margin: 0 0.4em 0.5em 0.4em;box-sizing: border-box;padding-bottom: 0.4em;background-color: white;}#sk-container-id-3 div.sk-label label {font-family: monospace;font-weight: bold;display: inline-block;line-height: 1.2em;}#sk-container-id-3 div.sk-label-container {text-align: center;}#sk-container-id-3 div.sk-container {/* jupyter's `normalize.less` sets `[hidden] { display: none; }` but bootstrap.min.css set `[hidden] { display: none !important; }` so we also need the `!important` here to be able to override the default hidden behavior on the sphinx rendered scikit-learn.org. See: https://github.com/scikit-learn/scikit-learn/issues/21755 */display: inline-block !important;position: relative;}#sk-container-id-3 div.sk-text-repr-fallback {display: none;}</style><div id=\"sk-container-id-3\" class=\"sk-top-container\"><div class=\"sk-text-repr-fallback\"><pre>KNeighborsClassifier()</pre><b>In a Jupyter environment, please rerun this cell to show the HTML representation or trust the notebook. <br />On GitHub, the HTML representation is unable to render, please try loading this page with nbviewer.org.</b></div><div class=\"sk-container\" hidden><div class=\"sk-item\"><div class=\"sk-estimator sk-toggleable\"><input class=\"sk-toggleable__control sk-hidden--visually\" id=\"sk-estimator-id-3\" type=\"checkbox\" checked><label for=\"sk-estimator-id-3\" class=\"sk-toggleable__label sk-toggleable__label-arrow\">KNeighborsClassifier</label><div class=\"sk-toggleable__content\"><pre>KNeighborsClassifier()</pre></div></div></div></div></div>"
            ],
            "text/plain": [
              "KNeighborsClassifier()"
            ]
          },
          "execution_count": 37,
          "metadata": {},
          "output_type": "execute_result"
        }
      ],
      "source": [
        "# K-Nearest Neighbor model\n",
        "knn = KNeighborsClassifier(n_neighbors=5,metric='minkowski',p=2)\n",
        "knn.fit(X_train_tvec, Y_train)"
      ],
      "id": "662dced1"
    },
    {
      "cell_type": "code",
      "execution_count": null,
      "metadata": {
        "id": "cb35c2ce"
      },
      "outputs": [],
      "source": [
        "# Predict using training and testing data and display the accuracy, f-1 score, precision for Positive and Negative Sentiment Classifiers \n",
        "knn_predictions = knn.predict(tvec.transform(X_test_cleaned))\n",
        "report = classification_report(Y_test,knn_predictions, output_dict=True)\n",
        "data_report = pd.DataFrame(report).transpose().round(2)\n",
        "cm = sns.light_palette(\"gray\", as_cmap=True)\n",
        "data_report.style.background_gradient(cmap=cm)"
      ],
      "id": "cb35c2ce"
    },
    {
      "cell_type": "code",
      "execution_count": null,
      "metadata": {
        "colab": {
          "background_save": true
        },
        "id": "2a1b80c1",
        "outputId": "6cc9c163-5525-4224-ced6-7cec16385b24"
      },
      "outputs": [
        {
          "data": {
            "image/png": "[encoded data removed]",
            "text/plain": [
              "<Figure size 640x480 with 2 Axes>"
            ]
          },
          "metadata": {},
          "output_type": "display_data"
        }
      ],
      "source": [
        "# confusion matrix\n",
        "knn_predictions=knn.predict(tvec.transform(X_test_cleaned))\n",
        "ax= plt.subplot()\n",
        "cm=confusion_matrix(Y_test,knn_predictions)\n",
        "sns.heatmap(cm, annot=True, fmt='g', ax=ax,cmap='Reds');  \n",
        "ax.set_xlabel('Predicted labels');ax.set_ylabel('True labels');\n",
        "ax.set_title('Confusion Matrix');\n",
        "ax.xaxis.set_ticklabels(['negative', 'positive']); ax.yaxis.set_ticklabels(['negative', 'positive']);"
      ],
      "id": "2a1b80c1"
    },
    {
      "cell_type": "code",
      "execution_count": null,
      "metadata": {
        "colab": {
          "background_save": true
        },
        "id": "bb3d2031",
        "outputId": "6c4435bb-5c2b-4427-e961-0d7bc5183d51"
      },
      "outputs": [
        {
          "name": "stdout",
          "output_type": "stream",
          "text": [
            "[0]\n"
          ]
        }
      ],
      "source": [
        "# testing the model with sample 'Negative' review\n",
        "demo_review = np.array(['Bad product. Very much disappointed'])\n",
        "demo_review_X_test = tvec.transform(demo_review)\n",
        "print(knn.predict(demo_review_X_test))\n",
        "\n",
        "# expected output = 0 (Negative)\n",
        "# actual output = 0 (Negative)"
      ],
      "id": "bb3d2031"
    },
    {
      "cell_type": "code",
      "execution_count": null,
      "metadata": {
        "colab": {
          "background_save": true
        },
        "id": "16c26584",
        "outputId": "57616dfa-ef6e-46bf-9b5d-4511623bf01d"
      },
      "outputs": [
        {
          "name": "stdout",
          "output_type": "stream",
          "text": [
            "[1]\n"
          ]
        }
      ],
      "source": [
        "# testing the model with sample 'Positive' review\n",
        "demo_review_2 = np.array(['Excellent product. Works well and performs as expected.'])\n",
        "demo_review_X_test_2 = tvec.transform(demo_review_2)\n",
        "print(knn.predict(demo_review_X_test_2))\n",
        "\n",
        "# expected output = 1 (Positive)\n",
        "# actual output = 1 (Positive)"
      ],
      "id": "16c26584"
    },
    {
      "cell_type": "code",
      "execution_count": null,
      "metadata": {
        "colab": {
          "background_save": true
        },
        "id": "27c11a5d",
        "outputId": "4da8fe8a-a5e9-4029-93d6-c28c189d5583"
      },
      "outputs": [
        {
          "data": {
            "text/html": [
              "<style>#sk-container-id-4 {color: black;background-color: white;}#sk-container-id-4 pre{padding: 0;}#sk-container-id-4 div.sk-toggleable {background-color: white;}#sk-container-id-4 label.sk-toggleable__label {cursor: pointer;display: block;width: 100%;margin-bottom: 0;padding: 0.3em;box-sizing: border-box;text-align: center;}#sk-container-id-4 label.sk-toggleable__label-arrow:before {content: \"▸\";float: left;margin-right: 0.25em;color: #696969;}#sk-container-id-4 label.sk-toggleable__label-arrow:hover:before {color: black;}#sk-container-id-4 div.sk-estimator:hover label.sk-toggleable__label-arrow:before {color: black;}#sk-container-id-4 div.sk-toggleable__content {max-height: 0;max-width: 0;overflow: hidden;text-align: left;background-color: #f0f8ff;}#sk-container-id-4 div.sk-toggleable__content pre {margin: 0.2em;color: black;border-radius: 0.25em;background-color: #f0f8ff;}#sk-container-id-4 input.sk-toggleable__control:checked~div.sk-toggleable__content {max-height: 200px;max-width: 100%;overflow: auto;}#sk-container-id-4 input.sk-toggleable__control:checked~label.sk-toggleable__label-arrow:before {content: \"▾\";}#sk-container-id-4 div.sk-estimator input.sk-toggleable__control:checked~label.sk-toggleable__label {background-color: #d4ebff;}#sk-container-id-4 div.sk-label input.sk-toggleable__control:checked~label.sk-toggleable__label {background-color: #d4ebff;}#sk-container-id-4 input.sk-hidden--visually {border: 0;clip: rect(1px 1px 1px 1px);clip: rect(1px, 1px, 1px, 1px);height: 1px;margin: -1px;overflow: hidden;padding: 0;position: absolute;width: 1px;}#sk-container-id-4 div.sk-estimator {font-family: monospace;background-color: #f0f8ff;border: 1px dotted black;border-radius: 0.25em;box-sizing: border-box;margin-bottom: 0.5em;}#sk-container-id-4 div.sk-estimator:hover {background-color: #d4ebff;}#sk-container-id-4 div.sk-parallel-item::after {content: \"\";width: 100%;border-bottom: 1px solid gray;flex-grow: 1;}#sk-container-id-4 div.sk-label:hover label.sk-toggleable__label {background-color: #d4ebff;}#sk-container-id-4 div.sk-serial::before {content: \"\";position: absolute;border-left: 1px solid gray;box-sizing: border-box;top: 0;bottom: 0;left: 50%;z-index: 0;}#sk-container-id-4 div.sk-serial {display: flex;flex-direction: column;align-items: center;background-color: white;padding-right: 0.2em;padding-left: 0.2em;position: relative;}#sk-container-id-4 div.sk-item {position: relative;z-index: 1;}#sk-container-id-4 div.sk-parallel {display: flex;align-items: stretch;justify-content: center;background-color: white;position: relative;}#sk-container-id-4 div.sk-item::before, #sk-container-id-4 div.sk-parallel-item::before {content: \"\";position: absolute;border-left: 1px solid gray;box-sizing: border-box;top: 0;bottom: 0;left: 50%;z-index: -1;}#sk-container-id-4 div.sk-parallel-item {display: flex;flex-direction: column;z-index: 1;position: relative;background-color: white;}#sk-container-id-4 div.sk-parallel-item:first-child::after {align-self: flex-end;width: 50%;}#sk-container-id-4 div.sk-parallel-item:last-child::after {align-self: flex-start;width: 50%;}#sk-container-id-4 div.sk-parallel-item:only-child::after {width: 0;}#sk-container-id-4 div.sk-dashed-wrapped {border: 1px dashed gray;margin: 0 0.4em 0.5em 0.4em;box-sizing: border-box;padding-bottom: 0.4em;background-color: white;}#sk-container-id-4 div.sk-label label {font-family: monospace;font-weight: bold;display: inline-block;line-height: 1.2em;}#sk-container-id-4 div.sk-label-container {text-align: center;}#sk-container-id-4 div.sk-container {/* jupyter's `normalize.less` sets `[hidden] { display: none; }` but bootstrap.min.css set `[hidden] { display: none !important; }` so we also need the `!important` here to be able to override the default hidden behavior on the sphinx rendered scikit-learn.org. See: https://github.com/scikit-learn/scikit-learn/issues/21755 */display: inline-block !important;position: relative;}#sk-container-id-4 div.sk-text-repr-fallback {display: none;}</style><div id=\"sk-container-id-4\" class=\"sk-top-container\"><div class=\"sk-text-repr-fallback\"><pre>LogisticRegression()</pre><b>In a Jupyter environment, please rerun this cell to show the HTML representation or trust the notebook. <br />On GitHub, the HTML representation is unable to render, please try loading this page with nbviewer.org.</b></div><div class=\"sk-container\" hidden><div class=\"sk-item\"><div class=\"sk-estimator sk-toggleable\"><input class=\"sk-toggleable__control sk-hidden--visually\" id=\"sk-estimator-id-4\" type=\"checkbox\" checked><label for=\"sk-estimator-id-4\" class=\"sk-toggleable__label sk-toggleable__label-arrow\">LogisticRegression</label><div class=\"sk-toggleable__content\"><pre>LogisticRegression()</pre></div></div></div></div></div>"
            ],
            "text/plain": [
              "LogisticRegression()"
            ]
          },
          "execution_count": 42,
          "metadata": {},
          "output_type": "execute_result"
        }
      ],
      "source": [
        "# Logistic regression model\n",
        "lr = LogisticRegression()\n",
        "lr.fit(X_train_tvec, Y_train)"
      ],
      "id": "27c11a5d"
    },
    {
      "cell_type": "code",
      "execution_count": null,
      "metadata": {
        "colab": {
          "background_save": true
        },
        "id": "95d5c253",
        "outputId": "a38b0e3d-3b7e-4f97-ef3e-13a5f2354223"
      },
      "outputs": [
        {
          "data": {
            "text/html": [
              "<style type=\"text/css\">\n",
              "#T_e2f09_row0_col0, #T_e2f09_row0_col1, #T_e2f09_row0_col2, #T_e2f09_row2_col3 {\n",
              "  background-color: #f3f0f3;\n",
              "  color: #000000;\n",
              "}\n",
              "#T_e2f09_row0_col3 {\n",
              "  background-color: #e1cae1;\n",
              "  color: #000000;\n",
              "}\n",
              "#T_e2f09_row1_col0, #T_e2f09_row1_col1, #T_e2f09_row1_col2, #T_e2f09_row3_col3, #T_e2f09_row4_col3 {\n",
              "  background-color: #800080;\n",
              "  color: #f1f1f1;\n",
              "}\n",
              "#T_e2f09_row1_col3, #T_e2f09_row2_col1, #T_e2f09_row4_col1 {\n",
              "  background-color: #922692;\n",
              "  color: #f1f1f1;\n",
              "}\n",
              "#T_e2f09_row2_col0 {\n",
              "  background-color: #8f208f;\n",
              "  color: #f1f1f1;\n",
              "}\n",
              "#T_e2f09_row2_col2 {\n",
              "  background-color: #902290;\n",
              "  color: #f1f1f1;\n",
              "}\n",
              "#T_e2f09_row3_col0 {\n",
              "  background-color: #bd80bd;\n",
              "  color: #f1f1f1;\n",
              "}\n",
              "#T_e2f09_row3_col1, #T_e2f09_row3_col2 {\n",
              "  background-color: #b977b9;\n",
              "  color: #f1f1f1;\n",
              "}\n",
              "#T_e2f09_row4_col0 {\n",
              "  background-color: #973097;\n",
              "  color: #f1f1f1;\n",
              "}\n",
              "#T_e2f09_row4_col2 {\n",
              "  background-color: #942a94;\n",
              "  color: #f1f1f1;\n",
              "}\n",
              "</style>\n",
              "<table id=\"T_e2f09\" class=\"dataframe\">\n",
              "  <thead>\n",
              "    <tr>\n",
              "      <th class=\"blank level0\" >&nbsp;</th>\n",
              "      <th id=\"T_e2f09_level0_col0\" class=\"col_heading level0 col0\" >precision</th>\n",
              "      <th id=\"T_e2f09_level0_col1\" class=\"col_heading level0 col1\" >recall</th>\n",
              "      <th id=\"T_e2f09_level0_col2\" class=\"col_heading level0 col2\" >f1-score</th>\n",
              "      <th id=\"T_e2f09_level0_col3\" class=\"col_heading level0 col3\" >support</th>\n",
              "    </tr>\n",
              "  </thead>\n",
              "  <tbody>\n",
              "    <tr>\n",
              "      <th id=\"T_e2f09_level0_row0\" class=\"row_heading level0 row0\" >0</th>\n",
              "      <td id=\"T_e2f09_row0_col0\" class=\"data row0 col0\" >0.780000</td>\n",
              "      <td id=\"T_e2f09_row0_col1\" class=\"data row0 col1\" >0.590000</td>\n",
              "      <td id=\"T_e2f09_row0_col2\" class=\"data row0 col2\" >0.670000</td>\n",
              "      <td id=\"T_e2f09_row0_col3\" class=\"data row0 col3\" >756.000000</td>\n",
              "    </tr>\n",
              "    <tr>\n",
              "      <th id=\"T_e2f09_level0_row1\" class=\"row_heading level0 row1\" >1</th>\n",
              "      <td id=\"T_e2f09_row1_col0\" class=\"data row1 col0\" >0.930000</td>\n",
              "      <td id=\"T_e2f09_row1_col1\" class=\"data row1 col1\" >0.970000</td>\n",
              "      <td id=\"T_e2f09_row1_col2\" class=\"data row1 col2\" >0.950000</td>\n",
              "      <td id=\"T_e2f09_row1_col3\" class=\"data row1 col3\" >3997.000000</td>\n",
              "    </tr>\n",
              "    <tr>\n",
              "      <th id=\"T_e2f09_level0_row2\" class=\"row_heading level0 row2\" >accuracy</th>\n",
              "      <td id=\"T_e2f09_row2_col0\" class=\"data row2 col0\" >0.910000</td>\n",
              "      <td id=\"T_e2f09_row2_col1\" class=\"data row2 col1\" >0.910000</td>\n",
              "      <td id=\"T_e2f09_row2_col2\" class=\"data row2 col2\" >0.910000</td>\n",
              "      <td id=\"T_e2f09_row2_col3\" class=\"data row2 col3\" >0.910000</td>\n",
              "    </tr>\n",
              "    <tr>\n",
              "      <th id=\"T_e2f09_level0_row3\" class=\"row_heading level0 row3\" >macro avg</th>\n",
              "      <td id=\"T_e2f09_row3_col0\" class=\"data row3 col0\" >0.850000</td>\n",
              "      <td id=\"T_e2f09_row3_col1\" class=\"data row3 col1\" >0.780000</td>\n",
              "      <td id=\"T_e2f09_row3_col2\" class=\"data row3 col2\" >0.810000</td>\n",
              "      <td id=\"T_e2f09_row3_col3\" class=\"data row3 col3\" >4753.000000</td>\n",
              "    </tr>\n",
              "    <tr>\n",
              "      <th id=\"T_e2f09_level0_row4\" class=\"row_heading level0 row4\" >weighted avg</th>\n",
              "      <td id=\"T_e2f09_row4_col0\" class=\"data row4 col0\" >0.900000</td>\n",
              "      <td id=\"T_e2f09_row4_col1\" class=\"data row4 col1\" >0.910000</td>\n",
              "      <td id=\"T_e2f09_row4_col2\" class=\"data row4 col2\" >0.900000</td>\n",
              "      <td id=\"T_e2f09_row4_col3\" class=\"data row4 col3\" >4753.000000</td>\n",
              "    </tr>\n",
              "  </tbody>\n",
              "</table>\n"
            ],
            "text/plain": [
              "<pandas.io.formats.style.Styler at 0x7fddcc86f400>"
            ]
          },
          "execution_count": 43,
          "metadata": {},
          "output_type": "execute_result"
        }
      ],
      "source": [
        "# Predict using training and testing data and display the accuracy, f-1 score, precision for Positive and Negative Sentiment Classifiers \n",
        "lr_predictions = lr.predict(tvec.transform(X_test_cleaned))\n",
        "report = classification_report(Y_test,lr_predictions, output_dict=True)\n",
        "data_report = pd.DataFrame(report).transpose().round(2)\n",
        "cm = sns.light_palette(\"purple\", as_cmap=True)\n",
        "data_report.style.background_gradient(cmap=cm)"
      ],
      "id": "95d5c253"
    },
    {
      "cell_type": "code",
      "execution_count": null,
      "metadata": {
        "colab": {
          "background_save": true
        },
        "id": "e62d32db",
        "outputId": "ab941ac1-b1f2-46b0-ced0-dd7f5746494c"
      },
      "outputs": [
        {
          "data": {
            "image/png": "[encoded data removed]",
            "text/plain": [
              "<Figure size 640x480 with 2 Axes>"
            ]
          },
          "metadata": {},
          "output_type": "display_data"
        }
      ],
      "source": [
        "# confusion matrix\n",
        "lr_predictions=lr.predict(tvec.transform(X_test_cleaned))\n",
        "ax= plt.subplot()\n",
        "cm=confusion_matrix(Y_test,lr_predictions)\n",
        "sns.heatmap(cm, annot=True, fmt='g', ax=ax,cmap='Reds');  \n",
        "ax.set_xlabel('Predicted labels');ax.set_ylabel('True labels');\n",
        "ax.set_title('Confusion Matrix');\n",
        "ax.xaxis.set_ticklabels(['negative', 'positive']); ax.yaxis.set_ticklabels(['negative', 'positive']);"
      ],
      "id": "e62d32db"
    },
    {
      "cell_type": "code",
      "execution_count": null,
      "metadata": {
        "colab": {
          "background_save": true
        },
        "id": "42b55aec",
        "outputId": "99e35d97-adc5-47a4-ffb2-a4fb04752ae9"
      },
      "outputs": [
        {
          "name": "stdout",
          "output_type": "stream",
          "text": [
            "[0]\n"
          ]
        }
      ],
      "source": [
        "# testing the model with sample 'Negative' review\n",
        "demo_review = np.array(['Poor quality. Faulty device.'])\n",
        "demo_review_X_test = tvec.transform(demo_review)\n",
        "print(lr.predict(demo_review_X_test))\n",
        "\n",
        "# expected output = 0 (Negative)\n",
        "# actual output = 0 (Negative)"
      ],
      "id": "42b55aec"
    },
    {
      "cell_type": "code",
      "execution_count": null,
      "metadata": {
        "colab": {
          "background_save": true
        },
        "id": "71bcf9fc",
        "outputId": "346cc783-30d5-406e-b404-8c274503c57a"
      },
      "outputs": [
        {
          "name": "stdout",
          "output_type": "stream",
          "text": [
            "[1]\n"
          ]
        }
      ],
      "source": [
        "# testing the model with sample 'Positive' review\n",
        "demo_review_2 = np.array(['Best product.'])\n",
        "demo_review_X_test_2 = tvec.transform(demo_review_2)\n",
        "print(lr.predict(demo_review_X_test_2))\n",
        "\n",
        "# expected output = 1 (Positive)\n",
        "# actual output = 1 (Positive)"
      ],
      "id": "71bcf9fc"
    },
    {
      "cell_type": "code",
      "execution_count": null,
      "metadata": {
        "colab": {
          "background_save": true
        },
        "id": "598cfc02",
        "outputId": "622b4c43-41e6-456b-bd89-d16fd2f1e186"
      },
      "outputs": [
        {
          "data": {
            "text/html": [
              "<style>#sk-container-id-5 {color: black;background-color: white;}#sk-container-id-5 pre{padding: 0;}#sk-container-id-5 div.sk-toggleable {background-color: white;}#sk-container-id-5 label.sk-toggleable__label {cursor: pointer;display: block;width: 100%;margin-bottom: 0;padding: 0.3em;box-sizing: border-box;text-align: center;}#sk-container-id-5 label.sk-toggleable__label-arrow:before {content: \"▸\";float: left;margin-right: 0.25em;color: #696969;}#sk-container-id-5 label.sk-toggleable__label-arrow:hover:before {color: black;}#sk-container-id-5 div.sk-estimator:hover label.sk-toggleable__label-arrow:before {color: black;}#sk-container-id-5 div.sk-toggleable__content {max-height: 0;max-width: 0;overflow: hidden;text-align: left;background-color: #f0f8ff;}#sk-container-id-5 div.sk-toggleable__content pre {margin: 0.2em;color: black;border-radius: 0.25em;background-color: #f0f8ff;}#sk-container-id-5 input.sk-toggleable__control:checked~div.sk-toggleable__content {max-height: 200px;max-width: 100%;overflow: auto;}#sk-container-id-5 input.sk-toggleable__control:checked~label.sk-toggleable__label-arrow:before {content: \"▾\";}#sk-container-id-5 div.sk-estimator input.sk-toggleable__control:checked~label.sk-toggleable__label {background-color: #d4ebff;}#sk-container-id-5 div.sk-label input.sk-toggleable__control:checked~label.sk-toggleable__label {background-color: #d4ebff;}#sk-container-id-5 input.sk-hidden--visually {border: 0;clip: rect(1px 1px 1px 1px);clip: rect(1px, 1px, 1px, 1px);height: 1px;margin: -1px;overflow: hidden;padding: 0;position: absolute;width: 1px;}#sk-container-id-5 div.sk-estimator {font-family: monospace;background-color: #f0f8ff;border: 1px dotted black;border-radius: 0.25em;box-sizing: border-box;margin-bottom: 0.5em;}#sk-container-id-5 div.sk-estimator:hover {background-color: #d4ebff;}#sk-container-id-5 div.sk-parallel-item::after {content: \"\";width: 100%;border-bottom: 1px solid gray;flex-grow: 1;}#sk-container-id-5 div.sk-label:hover label.sk-toggleable__label {background-color: #d4ebff;}#sk-container-id-5 div.sk-serial::before {content: \"\";position: absolute;border-left: 1px solid gray;box-sizing: border-box;top: 0;bottom: 0;left: 50%;z-index: 0;}#sk-container-id-5 div.sk-serial {display: flex;flex-direction: column;align-items: center;background-color: white;padding-right: 0.2em;padding-left: 0.2em;position: relative;}#sk-container-id-5 div.sk-item {position: relative;z-index: 1;}#sk-container-id-5 div.sk-parallel {display: flex;align-items: stretch;justify-content: center;background-color: white;position: relative;}#sk-container-id-5 div.sk-item::before, #sk-container-id-5 div.sk-parallel-item::before {content: \"\";position: absolute;border-left: 1px solid gray;box-sizing: border-box;top: 0;bottom: 0;left: 50%;z-index: -1;}#sk-container-id-5 div.sk-parallel-item {display: flex;flex-direction: column;z-index: 1;position: relative;background-color: white;}#sk-container-id-5 div.sk-parallel-item:first-child::after {align-self: flex-end;width: 50%;}#sk-container-id-5 div.sk-parallel-item:last-child::after {align-self: flex-start;width: 50%;}#sk-container-id-5 div.sk-parallel-item:only-child::after {width: 0;}#sk-container-id-5 div.sk-dashed-wrapped {border: 1px dashed gray;margin: 0 0.4em 0.5em 0.4em;box-sizing: border-box;padding-bottom: 0.4em;background-color: white;}#sk-container-id-5 div.sk-label label {font-family: monospace;font-weight: bold;display: inline-block;line-height: 1.2em;}#sk-container-id-5 div.sk-label-container {text-align: center;}#sk-container-id-5 div.sk-container {/* jupyter's `normalize.less` sets `[hidden] { display: none; }` but bootstrap.min.css set `[hidden] { display: none !important; }` so we also need the `!important` here to be able to override the default hidden behavior on the sphinx rendered scikit-learn.org. See: https://github.com/scikit-learn/scikit-learn/issues/21755 */display: inline-block !important;position: relative;}#sk-container-id-5 div.sk-text-repr-fallback {display: none;}</style><div id=\"sk-container-id-5\" class=\"sk-top-container\"><div class=\"sk-text-repr-fallback\"><pre>MultinomialNB()</pre><b>In a Jupyter environment, please rerun this cell to show the HTML representation or trust the notebook. <br />On GitHub, the HTML representation is unable to render, please try loading this page with nbviewer.org.</b></div><div class=\"sk-container\" hidden><div class=\"sk-item\"><div class=\"sk-estimator sk-toggleable\"><input class=\"sk-toggleable__control sk-hidden--visually\" id=\"sk-estimator-id-5\" type=\"checkbox\" checked><label for=\"sk-estimator-id-5\" class=\"sk-toggleable__label sk-toggleable__label-arrow\">MultinomialNB</label><div class=\"sk-toggleable__content\"><pre>MultinomialNB()</pre></div></div></div></div></div>"
            ],
            "text/plain": [
              "MultinomialNB()"
            ]
          },
          "execution_count": 47,
          "metadata": {},
          "output_type": "execute_result"
        }
      ],
      "source": [
        "# Naive Bayes model\n",
        "nbm = naive_bayes.MultinomialNB()\n",
        "nbm.fit(X_train_tvec, Y_train)"
      ],
      "id": "598cfc02"
    },
    {
      "cell_type": "code",
      "execution_count": null,
      "metadata": {
        "colab": {
          "background_save": true
        },
        "id": "ec2533cb",
        "outputId": "db45c048-581e-4d97-e27d-622d7bd75140"
      },
      "outputs": [
        {
          "data": {
            "text/html": [
              "<style type=\"text/css\">\n",
              "#T_7f8a7_row0_col0, #T_7f8a7_row1_col1, #T_7f8a7_row1_col2, #T_7f8a7_row3_col3, #T_7f8a7_row4_col3 {\n",
              "  background-color: #0000ff;\n",
              "  color: #f1f1f1;\n",
              "}\n",
              "#T_7f8a7_row0_col1, #T_7f8a7_row0_col2, #T_7f8a7_row1_col0, #T_7f8a7_row2_col0, #T_7f8a7_row2_col3, #T_7f8a7_row3_col0, #T_7f8a7_row4_col0 {\n",
              "  background-color: #f0f0f3;\n",
              "  color: #000000;\n",
              "}\n",
              "#T_7f8a7_row0_col3 {\n",
              "  background-color: #cbcbf5;\n",
              "  color: #000000;\n",
              "}\n",
              "#T_7f8a7_row1_col3, #T_7f8a7_row2_col1, #T_7f8a7_row4_col1 {\n",
              "  background-color: #2626fd;\n",
              "  color: #f1f1f1;\n",
              "}\n",
              "#T_7f8a7_row2_col2 {\n",
              "  background-color: #1414fe;\n",
              "  color: #f1f1f1;\n",
              "}\n",
              "#T_7f8a7_row3_col1 {\n",
              "  background-color: #7a7af9;\n",
              "  color: #f1f1f1;\n",
              "}\n",
              "#T_7f8a7_row3_col2 {\n",
              "  background-color: #7777f9;\n",
              "  color: #f1f1f1;\n",
              "}\n",
              "#T_7f8a7_row4_col2 {\n",
              "  background-color: #2828fd;\n",
              "  color: #f1f1f1;\n",
              "}\n",
              "</style>\n",
              "<table id=\"T_7f8a7\" class=\"dataframe\">\n",
              "  <thead>\n",
              "    <tr>\n",
              "      <th class=\"blank level0\" >&nbsp;</th>\n",
              "      <th id=\"T_7f8a7_level0_col0\" class=\"col_heading level0 col0\" >precision</th>\n",
              "      <th id=\"T_7f8a7_level0_col1\" class=\"col_heading level0 col1\" >recall</th>\n",
              "      <th id=\"T_7f8a7_level0_col2\" class=\"col_heading level0 col2\" >f1-score</th>\n",
              "      <th id=\"T_7f8a7_level0_col3\" class=\"col_heading level0 col3\" >support</th>\n",
              "    </tr>\n",
              "  </thead>\n",
              "  <tbody>\n",
              "    <tr>\n",
              "      <th id=\"T_7f8a7_level0_row0\" class=\"row_heading level0 row0\" >0</th>\n",
              "      <td id=\"T_7f8a7_row0_col0\" class=\"data row0 col0\" >0.870000</td>\n",
              "      <td id=\"T_7f8a7_row0_col1\" class=\"data row0 col1\" >0.110000</td>\n",
              "      <td id=\"T_7f8a7_row0_col2\" class=\"data row0 col2\" >0.190000</td>\n",
              "      <td id=\"T_7f8a7_row0_col3\" class=\"data row0 col3\" >756.000000</td>\n",
              "    </tr>\n",
              "    <tr>\n",
              "      <th id=\"T_7f8a7_level0_row1\" class=\"row_heading level0 row1\" >1</th>\n",
              "      <td id=\"T_7f8a7_row1_col0\" class=\"data row1 col0\" >0.860000</td>\n",
              "      <td id=\"T_7f8a7_row1_col1\" class=\"data row1 col1\" >1.000000</td>\n",
              "      <td id=\"T_7f8a7_row1_col2\" class=\"data row1 col2\" >0.920000</td>\n",
              "      <td id=\"T_7f8a7_row1_col3\" class=\"data row1 col3\" >3997.000000</td>\n",
              "    </tr>\n",
              "    <tr>\n",
              "      <th id=\"T_7f8a7_level0_row2\" class=\"row_heading level0 row2\" >accuracy</th>\n",
              "      <td id=\"T_7f8a7_row2_col0\" class=\"data row2 col0\" >0.860000</td>\n",
              "      <td id=\"T_7f8a7_row2_col1\" class=\"data row2 col1\" >0.860000</td>\n",
              "      <td id=\"T_7f8a7_row2_col2\" class=\"data row2 col2\" >0.860000</td>\n",
              "      <td id=\"T_7f8a7_row2_col3\" class=\"data row2 col3\" >0.860000</td>\n",
              "    </tr>\n",
              "    <tr>\n",
              "      <th id=\"T_7f8a7_level0_row3\" class=\"row_heading level0 row3\" >macro avg</th>\n",
              "      <td id=\"T_7f8a7_row3_col0\" class=\"data row3 col0\" >0.860000</td>\n",
              "      <td id=\"T_7f8a7_row3_col1\" class=\"data row3 col1\" >0.550000</td>\n",
              "      <td id=\"T_7f8a7_row3_col2\" class=\"data row3 col2\" >0.560000</td>\n",
              "      <td id=\"T_7f8a7_row3_col3\" class=\"data row3 col3\" >4753.000000</td>\n",
              "    </tr>\n",
              "    <tr>\n",
              "      <th id=\"T_7f8a7_level0_row4\" class=\"row_heading level0 row4\" >weighted avg</th>\n",
              "      <td id=\"T_7f8a7_row4_col0\" class=\"data row4 col0\" >0.860000</td>\n",
              "      <td id=\"T_7f8a7_row4_col1\" class=\"data row4 col1\" >0.860000</td>\n",
              "      <td id=\"T_7f8a7_row4_col2\" class=\"data row4 col2\" >0.800000</td>\n",
              "      <td id=\"T_7f8a7_row4_col3\" class=\"data row4 col3\" >4753.000000</td>\n",
              "    </tr>\n",
              "  </tbody>\n",
              "</table>\n"
            ],
            "text/plain": [
              "<pandas.io.formats.style.Styler at 0x7fddcc9bb3a0>"
            ]
          },
          "execution_count": 48,
          "metadata": {},
          "output_type": "execute_result"
        }
      ],
      "source": [
        "# Predict using training and testing data and display the accuracy, f-1 score, precision for Positive and Negative Sentiment Classifiers \n",
        "nbm_predictions = nbm.predict(tvec.transform(X_test_cleaned))\n",
        "report = classification_report(Y_test,nbm_predictions, output_dict=True)\n",
        "data_report = pd.DataFrame(report).transpose().round(2)\n",
        "cm = sns.light_palette(\"blue\", as_cmap=True)\n",
        "data_report.style.background_gradient(cmap=cm)"
      ],
      "id": "ec2533cb"
    },
    {
      "cell_type": "code",
      "execution_count": null,
      "metadata": {
        "colab": {
          "background_save": true
        },
        "id": "1ebbad30",
        "outputId": "781d9d11-676b-485c-cbeb-93c1bbc70243"
      },
      "outputs": [
        {
          "data": {
            "image/png": "[encoded data removed]",
            "text/plain": [
              "<Figure size 640x480 with 2 Axes>"
            ]
          },
          "metadata": {},
          "output_type": "display_data"
        }
      ],
      "source": [
        "# confusion matrix\n",
        "nbm_predictions=nbm.predict(tvec.transform(X_test_cleaned))\n",
        "ax= plt.subplot()\n",
        "cm=confusion_matrix(Y_test,nbm_predictions)\n",
        "sns.heatmap(cm, annot=True, fmt='g', ax=ax,cmap='Purples');  \n",
        "ax.set_xlabel('Predicted labels');ax.set_ylabel('True labels');\n",
        "ax.set_title('Confusion Matrix');\n",
        "ax.xaxis.set_ticklabels(['negative', 'positive']); ax.yaxis.set_ticklabels(['negative', 'positive']);"
      ],
      "id": "1ebbad30"
    },
    {
      "cell_type": "code",
      "execution_count": null,
      "metadata": {
        "colab": {
          "background_save": true
        },
        "id": "31eb00f5",
        "outputId": "6ad880b8-0cc6-404b-983b-efe6431b0910"
      },
      "outputs": [
        {
          "name": "stdout",
          "output_type": "stream",
          "text": [
            "[1]\n"
          ]
        }
      ],
      "source": [
        "# testing the model with sample 'Negative' review\n",
        "demo_review = np.array(['Defective. Bad. Stopped working after one day use'])\n",
        "demo_review_X_test = tvec.transform(demo_review)\n",
        "print(nbm.predict(demo_review_X_test))\n",
        "\n",
        "# expected output = 0 (Negative)\n",
        "# actual output = 0 (Negative)"
      ],
      "id": "31eb00f5"
    },
    {
      "cell_type": "code",
      "execution_count": null,
      "metadata": {
        "colab": {
          "background_save": true
        },
        "id": "5bfa2a17",
        "outputId": "b081733d-cdf5-4948-ba27-7b2ed00a25e4"
      },
      "outputs": [
        {
          "name": "stdout",
          "output_type": "stream",
          "text": [
            "[1]\n"
          ]
        }
      ],
      "source": [
        "# testing the model with sample 'Positive' review\n",
        "demo_review_2 = np.array(['Good product. highly recommend buying.'])\n",
        "demo_review_X_test_2 = tvec.transform(demo_review_2)\n",
        "print(nbm.predict(demo_review_X_test_2))\n",
        "\n",
        "# expected output = 1 (Positive)\n",
        "# actual output = 1 (Positive)"
      ],
      "id": "5bfa2a17"
    },
    {
      "cell_type": "code",
      "execution_count": null,
      "metadata": {
        "colab": {
          "background_save": true
        },
        "id": "0575b424"
      },
      "outputs": [],
      "source": [
        "# Code for Sentimental Analysis\n",
        "\n",
        "# Ends"
      ],
      "id": "0575b424"
    },
    {
      "cell_type": "code",
      "execution_count": null,
      "metadata": {
        "colab": {
          "background_save": true
        },
        "id": "5c16d1fa"
      },
      "outputs": [],
      "source": [],
      "id": "5c16d1fa"
    },
    {
      "cell_type": "code",
      "execution_count": null,
      "metadata": {
        "id": "s4MsKcsxM4lW"
      },
      "outputs": [],
      "source": [
        "x = input(\"enter review\")\n",
        "demo_review_2 = np.array([x])\n",
        "demo_review_X_test_2 = tvec.transform(demo_review_2)\n",
        "print(nbm.predict(demo_review_X_test_2))"
      ],
      "id": "s4MsKcsxM4lW"
    }
  ],
  "metadata": {
    "colab": {
      "provenance": []
    },
    "kernelspec": {
      "display_name": "Python 3.10.0 64-bit",
      "language": "python",
      "name": "python3"
    },
    "language_info": {
      "codemirror_mode": {
        "name": "ipython",
        "version": 3
      },
      "file_extension": ".py",
      "mimetype": "text/x-python",
      "name": "python",
      "nbconvert_exporter": "python",
      "pygments_lexer": "ipython3",
      "version": "3.10.0"
    },
    "vscode": {
      "interpreter": {
        "hash": "369f2c481f4da34e4445cda3fffd2e751bd1c4d706f27375911949ba6bb62e1c"
      }
    }
  },
  "nbformat": 4,
  "nbformat_minor": 5
}